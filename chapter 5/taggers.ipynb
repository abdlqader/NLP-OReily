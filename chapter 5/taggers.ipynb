{
  "nbformat": 4,
  "nbformat_minor": 0,
  "metadata": {
    "colab": {
      "name": "taggers.ipynb",
      "provenance": [],
      "collapsed_sections": []
    },
    "kernelspec": {
      "name": "python3",
      "display_name": "Python 3"
    }
  },
  "cells": [
    {
      "cell_type": "code",
      "metadata": {
        "id": "CB16ISjIIQhD",
        "colab_type": "code",
        "outputId": "74514d7e-e84b-433e-bc2b-675ef9e663dc",
        "colab": {
          "base_uri": "https://localhost:8080/",
          "height": 68
        }
      },
      "source": [
        "#tagged word part of speech POS helps in understandning where and what is the word meaning\n",
        "#for exmalpe \n",
        "import nltk\n",
        "nltk.download('nps_chat')\n",
        "print(nltk.corpus.nps_chat.tagged_words())"
      ],
      "execution_count": 1,
      "outputs": [
        {
          "output_type": "stream",
          "text": [
            "[nltk_data] Downloading package nps_chat to /root/nltk_data...\n",
            "[nltk_data]   Unzipping corpora/nps_chat.zip.\n",
            "[('now', 'RB'), ('im', 'PRP'), ('left', 'VBD'), ...]\n"
          ],
          "name": "stdout"
        }
      ]
    },
    {
      "cell_type": "markdown",
      "metadata": {
        "id": "K61tlHGdfH6B",
        "colab_type": "text"
      },
      "source": [
        "if the corpus segmented into sentence it will have a **tagged_sents()**"
      ]
    },
    {
      "cell_type": "code",
      "metadata": {
        "id": "1PrTwWVBfOM3",
        "colab_type": "code",
        "outputId": "a23eb630-0027-48cc-b9cb-d31618558162",
        "colab": {
          "base_uri": "https://localhost:8080/",
          "height": 122
        }
      },
      "source": [
        "#lets see which of these tags are the most common\n",
        "from nltk.corpus import brown\n",
        "nltk.download('brown')\n",
        "nltk.download('universal_tagset')\n",
        "brown_news_tagged = brown.tagged_words(categories='news',tagset='universal')\n",
        "tag_fd = nltk.FreqDist(tag for (word,tag) in brown_news_tagged)\n",
        "print(tag_fd.items())"
      ],
      "execution_count": 2,
      "outputs": [
        {
          "output_type": "stream",
          "text": [
            "[nltk_data] Downloading package brown to /root/nltk_data...\n",
            "[nltk_data]   Unzipping corpora/brown.zip.\n",
            "[nltk_data] Downloading package universal_tagset to /root/nltk_data...\n",
            "[nltk_data]   Unzipping taggers/universal_tagset.zip.\n",
            "dict_items([('DET', 11389), ('NOUN', 30654), ('ADJ', 6706), ('VERB', 14399), ('ADP', 12355), ('.', 11928), ('ADV', 3349), ('CONJ', 2717), ('PRT', 2264), ('PRON', 2535), ('NUM', 2166), ('X', 92)])\n"
          ],
          "name": "stdout"
        }
      ]
    },
    {
      "cell_type": "code",
      "metadata": {
        "id": "DpiUT1lZhWSx",
        "colab_type": "code",
        "outputId": "9fd9985f-389e-4722-da55-165c793c4e01",
        "colab": {
          "base_uri": "https://localhost:8080/",
          "height": 54
        }
      },
      "source": [
        "#lets see what POS occur before a noun\n",
        "word_tag_pairs = nltk.bigrams(brown_news_tagged)\n",
        "print(list(nltk.FreqDist(a[1] for (a,b) in word_tag_pairs if b[1]=='NOUN').items()))"
      ],
      "execution_count": 3,
      "outputs": [
        {
          "output_type": "stream",
          "text": [
            "[('DET', 7373), ('NOUN', 7959), ('ADJ', 4761), ('VERB', 1842), ('ADP', 3781), ('CONJ', 938), ('.', 2796), ('NUM', 894), ('ADV', 186), ('PRT', 94), ('X', 11), ('PRON', 19)]\n"
          ],
          "name": "stdout"
        }
      ]
    },
    {
      "cell_type": "code",
      "metadata": {
        "id": "ZgfBsjXzw52U",
        "colab_type": "code",
        "colab": {
          "base_uri": "https://localhost:8080/",
          "height": 88
        },
        "outputId": "1e82e294-6b17-4302-e596-73228734916d"
      },
      "source": [
        "#let's do the same to verbs\n",
        "nltk.download('treebank')\n",
        "wsj = nltk.corpus.treebank.tagged_words(tagset='universal')\n",
        "word_tag_fd = nltk.FreqDist(wsj)\n",
        "print([word for (word,_) in word_tag_fd.most_common() if word[1] == 'VERB'])"
      ],
      "execution_count": 6,
      "outputs": [
        {
          "output_type": "stream",
          "text": [
            "[nltk_data] Downloading package treebank to /root/nltk_data...\n",
            "[nltk_data]   Package treebank is already up-to-date!\n",
            "[('is', 'VERB'), ('said', 'VERB'), ('was', 'VERB'), ('are', 'VERB'), ('be', 'VERB'), ('has', 'VERB'), ('have', 'VERB'), ('will', 'VERB'), ('says', 'VERB'), ('would', 'VERB'), ('were', 'VERB'), ('had', 'VERB'), ('been', 'VERB'), ('could', 'VERB'), (\"'s\", 'VERB'), ('can', 'VERB'), ('do', 'VERB'), ('say', 'VERB'), ('make', 'VERB'), ('may', 'VERB'), ('did', 'VERB'), ('rose', 'VERB'), ('made', 'VERB'), ('does', 'VERB'), ('expected', 'VERB'), ('buy', 'VERB'), ('take', 'VERB'), ('get', 'VERB'), ('might', 'VERB'), ('sell', 'VERB'), ('added', 'VERB'), ('sold', 'VERB'), ('help', 'VERB'), ('including', 'VERB'), ('should', 'VERB'), ('reported', 'VERB'), ('according', 'VERB'), ('pay', 'VERB'), ('compared', 'VERB'), ('being', 'VERB'), ('fell', 'VERB'), ('began', 'VERB'), ('based', 'VERB'), ('used', 'VERB'), ('closed', 'VERB'), (\"'re\", 'VERB'), ('want', 'VERB'), ('see', 'VERB'), ('took', 'VERB'), ('yield', 'VERB'), ('offered', 'VERB'), ('set', 'VERB'), ('priced', 'VERB'), ('approved', 'VERB'), ('come', 'VERB'), ('noted', 'VERB'), ('cut', 'VERB'), ('ended', 'VERB'), ('found', 'VERB'), ('increased', 'VERB'), ('become', 'VERB'), ('think', 'VERB'), ('named', 'VERB'), ('go', 'VERB'), ('trying', 'VERB'), ('proposed', 'VERB'), ('received', 'VERB'), ('growing', 'VERB'), ('declined', 'VERB'), ('held', 'VERB'), ('give', 'VERB'), ('came', 'VERB'), ('use', 'VERB'), ('put', 'VERB'), ('making', 'VERB'), ('continue', 'VERB'), ('raise', 'VERB'), ('estimated', 'VERB'), ('called', 'VERB'), ('paid', 'VERB'), ('designed', 'VERB'), ('going', 'VERB'), ('expects', 'VERB'), ('seeking', 'VERB'), ('must', 'VERB'), ('plans', 'VERB'), ('wo', 'VERB'), ('increasing', 'VERB'), ('saying', 'VERB'), ('got', 'VERB'), ('owns', 'VERB'), ('trading', 'VERB'), ('acquired', 'VERB'), ('gained', 'VERB'), ('fined', 'VERB'), ('reached', 'VERB'), ('holding', 'VERB'), ('announced', 'VERB'), ('filed', 'VERB'), ('became', 'VERB'), ('seek', 'VERB'), ('included', 'VERB'), ('using', 'VERB'), ('led', 'VERB'), ('decided', 'VERB'), ('keep', 'VERB'), ('disclosed', 'VERB'), ('agreed', 'VERB'), ('find', 'VERB'), ('failed', 'VERB'), ('run', 'VERB'), ('taken', 'VERB'), ('know', 'VERB'), ('coming', 'VERB'), (\"'ve\", 'VERB'), ('completed', 'VERB'), ('built', 'VERB'), ('raised', 'VERB'), ('traded', 'VERB'), ('lost', 'VERB'), ('continued', 'VERB'), ('paying', 'VERB'), ('include', 'VERB'), ('believe', 'VERB'), ('receive', 'VERB'), ('posted', 'VERB'), ('wants', 'VERB'), ('scheduled', 'VERB'), ('went', 'VERB'), ('indicated', 'VERB'), ('provide', 'VERB'), ('helped', 'VERB'), ('needed', 'VERB'), ('goes', 'VERB'), ('told', 'VERB'), ('result', 'VERB'), ('need', 'VERB'), ('caused', 'VERB'), ('continues', 'VERB'), ('dropped', 'VERB'), ('showed', 'VERB'), ('ordered', 'VERB'), ('changed', 'VERB'), ('face', 'VERB'), ('continuing', 'VERB'), ('launched', 'VERB'), ('gives', 'VERB'), ('reduce', 'VERB'), (\"'m\", 'VERB'), ('lead', 'VERB'), ('planned', 'VERB'), ('wanted', 'VERB'), ('following', 'VERB'), ('remains', 'VERB'), ('followed', 'VERB'), ('remain', 'VERB'), ('meet', 'VERB'), ('believes', 'VERB'), ('trade', 'VERB'), ('includes', 'VERB'), ('improve', 'VERB'), ('buying', 'VERB'), ('issued', 'VERB'), ('rise', 'VERB'), ('leading', 'VERB'), ('ca', 'VERB'), ('involved', 'VERB'), ('known', 'VERB'), ('like', 'VERB'), ('makes', 'VERB'), ('having', 'VERB'), ('rejected', 'VERB'), ('rising', 'VERB'), ('increase', 'VERB'), ('turned', 'VERB'), ('operating', 'VERB'), ('read', 'VERB'), ('feel', 'VERB'), ('win', 'VERB'), ('given', 'VERB'), ('prevent', 'VERB'), ('offset', 'VERB'), ('barred', 'VERB'), ('earned', 'VERB'), ('consented', 'VERB'), ('support', 'VERB'), ('gave', 'VERB'), ('totaled', 'VERB'), ('acquire', 'VERB'), ('required', 'VERB'), ('begin', 'VERB'), ('require', 'VERB'), ('offer', 'VERB'), ('preferred', 'VERB'), ('produced', 'VERB'), ('bought', 'VERB'), ('offering', 'VERB'), ('asked', 'VERB'), ('carry', 'VERB'), ('build', 'VERB'), ('takes', 'VERB'), ('seem', 'VERB'), ('introduced', 'VERB'), ('taking', 'VERB'), ('won', 'VERB'), ('aimed', 'VERB'), ('hurt', 'VERB'), ('adds', 'VERB'), ('cited', 'VERB'), ('sought', 'VERB'), ('bring', 'VERB'), ('remaining', 'VERB'), ('considered', 'VERB'), ('suspended', 'VERB'), ('prove', 'VERB'), ('looking', 'VERB'), ('doing', 'VERB'), ('involving', 'VERB'), ('opened', 'VERB'), ('working', 'VERB'), ('close', 'VERB'), ('own', 'VERB'), ('report', 'VERB'), ('left', 'VERB'), ('boosted', 'VERB'), ('giving', 'VERB'), ('fixed', 'VERB'), ('listed', 'VERB'), ('runs', 'VERB'), ('purchasing', 'VERB'), ('consider', 'VERB'), ('prepared', 'VERB'), ('hit', 'VERB'), ('getting', 'VERB'), ('alleged', 'VERB'), ('look', 'VERB'), ('allowed', 'VERB'), ('approve', 'VERB'), ('wrote', 'VERB'), ('reduced', 'VERB'), ('fall', 'VERB'), ('advanced', 'VERB'), ('appears', 'VERB'), ('mixed', 'VERB'), ('described', 'VERB'), ('expect', 'VERB'), ('manufacturing', 'VERB'), ('spent', 'VERB'), ('According', 'VERB'), ('hopes', 'VERB'), ('underlying', 'VERB'), ('produce', 'VERB'), ('work', 'VERB'), ('placed', 'VERB'), ('allow', 'VERB'), ('sells', 'VERB'), ('operate', 'VERB'), ('extend', 'VERB'), ('surged', 'VERB'), ('jumped', 'VERB'), ('boost', 'VERB'), ('slowing', 'VERB'), ('provided', 'VERB'), ('seems', 'VERB'), ('ending', 'VERB'), ('selling', 'VERB'), ('opposed', 'VERB'), ('created', 'VERB'), ('move', 'VERB'), ('seen', 'VERB'), ('comment', 'VERB'), ('valued', 'VERB'), ('losing', 'VERB'), ('mature', 'VERB'), ('provides', 'VERB'), ('let', 'VERB'), ('stopped', 'VERB'), ('worked', 'VERB'), ('thought', 'VERB'), ('watch', 'VERB'), ('introduce', 'VERB'), ('related', 'VERB'), ('improved', 'VERB'), ('raising', 'VERB'), ('seemed', 'VERB'), ('force', 'VERB'), ('beginning', 'VERB'), ('leave', 'VERB'), ('believed', 'VERB'), ('stand', 'VERB'), ('developed', 'VERB'), ('decline', 'VERB'), ('expire', 'VERB'), ('managing', 'VERB'), ('hold', 'VERB'), ('invested', 'VERB'), ('suggests', 'VERB'), ('represent', 'VERB'), ('settle', 'VERB'), ('change', 'VERB'), ('contributed', 'VERB'), ('indicates', 'VERB'), ('asking', 'VERB'), ('elaborate', 'VERB'), ('shows', 'VERB'), ('refused', 'VERB'), ('quoted', 'VERB'), ('comes', 'VERB'), ('ease', 'VERB'), ('passed', 'VERB'), ('Says', 'VERB'), ('avoid', 'VERB'), ('threatened', 'VERB'), ('cause', 'VERB'), ('end', 'VERB'), ('violate', 'VERB'), ('operates', 'VERB'), ('kept', 'VERB'), (\"'ll\", 'VERB'), ('soared', 'VERB'), ('eliminated', 'VERB'), ('becomes', 'VERB'), ('create', 'VERB'), ('print', 'VERB'), ('shall', 'VERB'), ('show', 'VERB'), ('replaced', 'VERB'), ('owned', 'VERB'), ('argue', 'VERB'), ('beat', 'VERB'), ('elected', 'VERB'), ('complete', 'VERB'), ('issue', 'VERB'), ('act', 'VERB'), ('return', 'VERB'), ('registered', 'VERB'), ('suffer', 'VERB'), ('worried', 'VERB'), ('succeed', 'VERB'), ('block', 'VERB'), ('contain', 'VERB'), ('occur', 'VERB'), ('pursue', 'VERB'), ('combined', 'VERB'), ('requires', 'VERB'), ('met', 'VERB'), ('brought', 'VERB'), ('started', 'VERB'), ('covered', 'VERB'), ('turn', 'VERB'), ('running', 'VERB'), ('eliminate', 'VERB'), ('file', 'VERB'), ('plunged', 'VERB'), ('fallen', 'VERB'), ('ran', 'VERB'), ('fired', 'VERB'), ('becoming', 'VERB'), ('contained', 'VERB'), ('managed', 'VERB'), ('Take', 'VERB'), ('suggested', 'VERB'), ('accused', 'VERB'), ('appeared', 'VERB'), ('slow', 'VERB'), ('helping', 'VERB'), ('discovered', 'VERB'), ('add', 'VERB'), ('referred', 'VERB'), ('oppose', 'VERB'), ('stop', 'VERB'), ('claim', 'VERB'), ('sent', 'VERB'), ('formed', 'VERB'), ('resulting', 'VERB'), ('turning', 'VERB'), ('limited', 'VERB'), ('shipped', 'VERB'), ('forced', 'VERB'), ('send', 'VERB'), ('attract', 'VERB'), ('admitting', 'VERB'), ('denying', 'VERB'), ('disgorge', 'VERB'), ('attributed', 'VERB'), ('causing', 'VERB'), ('studied', 'VERB'), ('resigned', 'VERB'), ('cutting', 'VERB'), ('voted', 'VERB'), ('settled', 'VERB'), ('expand', 'VERB'), ('stood', 'VERB'), ('retired', 'VERB'), ('moved', 'VERB'), ('pending', 'VERB'), ('providing', 'VERB'), ('anticipated', 'VERB'), ('decide', 'VERB'), ('creating', 'VERB'), ('prompted', 'VERB'), ('developing', 'VERB'), ('start', 'VERB'), ('maintained', 'VERB'), ('expanding', 'VERB'), ('follows', 'VERB'), ('ranged', 'VERB'), ('focused', 'VERB'), ('climbed', 'VERB'), ('reflect', 'VERB'), ('insist', 'VERB'), ('owed', 'VERB'), ('happen', 'VERB'), ('adjusted', 'VERB'), ('awarded', 'VERB'), ('reporting', 'VERB'), ('talk', 'VERB'), ('offers', 'VERB'), ('written', 'VERB'), ('urged', 'VERB'), ('carried', 'VERB'), ('identified', 'VERB'), ('confirmed', 'VERB'), ('playing', 'VERB'), ('thinking', 'VERB'), ('calls', 'VERB'), ('means', 'VERB'), ('tried', 'VERB'), ('lying', 'VERB'), ('asks', 'VERB'), ('building', 'VERB'), ('suggest', 'VERB'), ('falling', 'VERB'), ('discuss', 'VERB'), ('matched', 'VERB'), ('concluded', 'VERB'), ('keeping', 'VERB'), (\"'d\", 'VERB'), ('returned', 'VERB'), ('withdrawn', 'VERB'), ('bid', 'VERB'), ('saw', 'VERB'), ('signed', 'VERB'), ('financing', 'VERB'), ('assuming', 'VERB'), ('adopted', 'VERB'), ('attempting', 'VERB'), ('accepted', 'VERB'), ('cover', 'VERB'), ('facing', 'VERB'), ('risk', 'VERB'), ('expanded', 'VERB'), ('leaving', 'VERB'), ('raises', 'VERB'), ('declared', 'VERB'), ('exercise', 'VERB'), ('finished', 'VERB'), ('regarding', 'VERB'), ('finance', 'VERB'), ('charge', 'VERB'), ('starting', 'VERB'), ('realize', 'VERB'), ('felt', 'VERB'), ('remained', 'VERB'), ('expressed', 'VERB'), ('done', 'VERB'), ('replace', 'VERB'), ('veto', 'VERB'), ('stay', 'VERB'), ('delivered', 'VERB'), ('join', 'VERB'), ('publishing', 'VERB'), ('enters', 'VERB'), ('appear', 'VERB'), ('talking', 'VERB'), ('heard', 'VERB'), ('dumped', 'VERB'), ('imported', 'VERB'), ('assume', 'VERB'), ('declining', 'VERB'), ('capture', 'VERB'), ('grew', 'VERB'), ('holds', 'VERB'), ('lift', 'VERB'), ('treat', 'VERB'), ('receiving', 'VERB'), ('joined', 'VERB'), ('reflecting', 'VERB'), ('released', 'VERB'), ('maintaining', 'VERB'), ('cost', 'VERB'), ('lowered', 'VERB'), ('costs', 'VERB'), ('exceed', 'VERB'), ('gaining', 'VERB'), ('considering', 'VERB'), ('determined', 'VERB'), ('ruled', 'VERB'), ('hope', 'VERB'), ('located', 'VERB'), ('tied', 'VERB'), ('heads', 'VERB'), ('applied', 'VERB'), ('failing', 'VERB'), ('showing', 'VERB'), ('apply', 'VERB'), ('protecting', 'VERB'), ('tells', 'VERB'), ('complained', 'VERB'), ('ask', 'VERB'), ('triggered', 'VERB'), ('entered', 'VERB'), ('total', 'VERB'), ('producing', 'VERB'), ('denied', 'VERB'), ('reducing', 'VERB'), ('reflects', 'VERB'), ('account', 'VERB'), ('predicting', 'VERB'), ('intended', 'VERB'), ('purchased', 'VERB'), ('blamed', 'VERB'), ('worry', 'VERB'), ('broken', 'VERB'), ('carries', 'VERB'), ('learned', 'VERB'), ('renewed', 'VERB'), ('walk', 'VERB'), ('viewed', 'VERB'), ('die', 'VERB'), ('speculated', 'VERB'), ('needs', 'VERB'), ('gets', 'VERB'), ('wait', 'VERB'), ('caught', 'VERB'), ('claims', 'VERB'), ('choose', 'VERB'), ('fail', 'VERB'), ('insists', 'VERB'), ('knows', 'VERB'), ('pass', 'VERB'), ('grown', 'VERB'), ('gotten', 'VERB'), ('grows', 'VERB'), ('responded', 'VERB'), ('play', 'VERB'), ('try', 'VERB'), ('mean', 'VERB'), ('encourage', 'VERB'), ('chosen', 'VERB'), ('admits', 'VERB'), ('Do', 'VERB'), ('dismissed', 'VERB'), ('realized', 'VERB'), ('serve', 'VERB'), ('associated', 'VERB'), ('slipped', 'VERB'), ('argued', 'VERB'), ('citing', 'VERB'), ('seeks', 'VERB'), ('preventing', 'VERB'), ('sparked', 'VERB'), ('review', 'VERB'), ('opening', 'VERB'), ('fueled', 'VERB'), ('negotiate', 'VERB'), ('drop', 'VERB'), ('pleased', 'VERB'), ('spend', 'VERB'), ('care', 'VERB'), ('represents', 'VERB'), ('spread', 'VERB'), ('explains', 'VERB'), ('push', 'VERB'), ('divided', 'VERB'), ('proposing', 'VERB'), ('gain', 'VERB'), ('representing', 'VERB'), ('financed', 'VERB'), ('execute', 'VERB'), ('existing', 'VERB'), ('discussed', 'VERB'), ('uses', 'VERB'), ('live', 'VERB'), ('ring', 'VERB'), ('signal', 'VERB'), ('focus', 'VERB'), ('hired', 'VERB'), ('limit', 'VERB'), ('begins', 'VERB'), ('reflected', 'VERB'), ('hear', 'VERB'), ('determine', 'VERB'), ('profit', 'VERB'), ('marketed', 'VERB'), ('warned', 'VERB'), ('qualified', 'VERB'), ('died', 'VERB'), ('surviving', 'VERB'), ('study', 'VERB'), ('explained', 'VERB'), ('imposed', 'VERB'), ('recognize', 'VERB'), ('eased', 'VERB'), ('indicate', 'VERB'), ('permit', 'VERB'), ('retain', 'VERB'), ('yielding', 'VERB'), ('boosts', 'VERB'), ('obtain', 'VERB'), ('employs', 'VERB'), ('banned', 'VERB'), ('pointed', 'VERB'), ('leaves', 'VERB'), ('withdraw', 'VERB'), ('refund', 'VERB'), ('collected', 'VERB'), ('upheld', 'VERB'), ('benefited', 'VERB'), ('doubled', 'VERB'), ('attached', 'VERB'), ('jump', 'VERB'), ('compete', 'VERB'), ('incurred', 'VERB'), ('removed', 'VERB'), ('honor', 'VERB'), ('varying', 'VERB'), ('marketing', 'VERB'), ('protect', 'VERB'), ('reach', 'VERB'), ('share', 'VERB'), ('requested', 'VERB'), ('grant', 'VERB'), ('stepping', 'VERB'), ('direct', 'VERB'), ('curb', 'VERB'), ('controlling', 'VERB'), ('snapped', 'VERB'), ('tend', 'VERB'), ('cast', 'VERB'), ('clear', 'VERB'), ('permitted', 'VERB'), ('remove', 'VERB'), ('revive', 'VERB'), ('draw', 'VERB'), ('predicted', 'VERB'), ('suspect', 'VERB'), ('coupled', 'VERB'), ('belong', 'VERB'), ('call', 'VERB'), ('describes', 'VERB'), ('played', 'VERB'), ('committed', 'VERB'), ('advertising', 'VERB'), ('tested', 'VERB'), ('revived', 'VERB'), ('earns', 'VERB'), ('feeling', 'VERB'), ('turns', 'VERB'), ('executed', 'VERB'), ('killed', 'VERB'), ('presented', 'VERB'), ('deserve', 'VERB'), ('mention', 'VERB'), ('seeing', 'VERB'), ('discussing', 'VERB'), ('convicted', 'VERB'), ('telling', 'VERB'), ('agree', 'VERB'), ('denies', 'VERB'), ('pursued', 'VERB'), ('spurred', 'VERB'), ('accommodate', 'VERB'), ('surrendered', 'VERB'), ('gone', 'VERB'), ('teach', 'VERB'), ('booming', 'VERB'), ('serving', 'VERB'), ('restore', 'VERB'), ('restructured', 'VERB'), ('taught', 'VERB'), ('feared', 'VERB'), ('meant', 'VERB'), ('adding', 'VERB'), ('publishes', 'VERB'), ('improving', 'VERB'), ('ignoring', 'VERB'), ('represented', 'VERB'), ('funded', 'VERB'), ('involve', 'VERB'), ('charged', 'VERB'), ('fared', 'VERB'), ('eliminates', 'VERB'), ('tumbled', 'VERB'), ('redeemed', 'VERB'), ('resolve', 'VERB'), ('stem', 'VERB'), ('hire', 'VERB'), ('obtained', 'VERB'), ('develop', 'VERB'), ('employed', 'VERB'), ('prohibits', 'VERB'), ('promote', 'VERB'), ('impose', 'VERB'), ('consist', 'VERB'), ('investigating', 'VERB'), ('accepting', 'VERB'), ('plan', 'VERB'), ('insisted', 'VERB'), ('contacted', 'VERB'), ('note', 'VERB'), ('driving', 'VERB'), ('contends', 'VERB'), ('cites', 'VERB'), ('point', 'VERB'), ('sign', 'VERB'), ('printed', 'VERB'), ('advertise', 'VERB'), ('breaks', 'VERB'), ('damaged', 'VERB'), ('check', 'VERB'), ('thinks', 'VERB'), ('looming', 'VERB'), ('expecting', 'VERB'), ('exercised', 'VERB'), ('auctioned', 'VERB'), ('disappointed', 'VERB'), ('subordinated', 'VERB'), ('respond', 'VERB'), ('secured', 'VERB'), ('integrated', 'VERB'), ('performed', 'VERB'), ('targeting', 'VERB'), ('stepped', 'VERB'), ('moving', 'VERB'), ('split', 'VERB'), ('Buy', 'VERB'), ('stemming', 'VERB'), ('executing', 'VERB'), ('shut', 'VERB'), ('writing', 'VERB'), ('regulated', 'VERB'), ('stands', 'VERB'), ('attend', 'VERB'), ('reopen', 'VERB'), ('drawn', 'VERB'), ('Put', 'VERB'), ('notes', 'VERB'), ('weaken', 'VERB'), ('trailed', 'VERB'), ('deliver', 'VERB'), ('occurred', 'VERB'), ('changing', 'VERB'), ('accept', 'VERB'), ('expelled', 'VERB'), ('amounted', 'VERB'), ('scrutinizing', 'VERB'), ('suspend', 'VERB'), ('compares', 'VERB'), ('backed', 'VERB'), ('vote', 'VERB'), ('covers', 'VERB'), ('knew', 'VERB'), ('joining', 'VERB'), ('record', 'VERB'), ('regarded', 'VERB'), ('copy', 'VERB'), ('conclude', 'VERB'), ('ought', 'VERB'), ('dominated', 'VERB'), ('pushed', 'VERB'), ('closing', 'VERB'), ('rumored', 'VERB'), ('respected', 'VERB'), ('specified', 'VERB'), ('understand', 'VERB'), ('supported', 'VERB'), ('perform', 'VERB'), ('declaring', 'VERB'), ('struggling', 'VERB'), ('abandoned', 'VERB'), ('considers', 'VERB'), ('warning', 'VERB'), ('offsetting', 'VERB'), ('break', 'VERB'), ('follow', 'VERB'), ('figure', 'VERB'), ('increases', 'VERB'), ('proving', 'VERB'), ('edged', 'VERB'), ('Buying', 'VERB'), ('forecast', 'VERB'), ('specify', 'VERB'), ('extended', 'VERB'), ('tendered', 'VERB'), ('unveiled', 'VERB'), ('treating', 'VERB'), ('exposed', 'VERB'), ('industrialized', 'VERB'), ('regulate', 'VERB'), ('contracted', 'VERB'), ('blip', 'VERB'), ('vary', 'VERB'), ('slid', 'VERB'), ('succeeds', 'VERB'), ('lifted', 'VERB'), ('acts', 'VERB'), ('welcomed', 'VERB'), ('squeezed', 'VERB'), ('fed', 'VERB'), ('casting', 'VERB'), ('prolonged', 'VERB'), ('recorded', 'VERB'), ('announce', 'VERB'), ('reward', 'VERB'), ('bowed', 'VERB'), ('justify', 'VERB'), ('asserted', 'VERB'), ('appealing', 'VERB'), ('faces', 'VERB'), ('rule', 'VERB'), ('inched', 'VERB'), ('manufacture', 'VERB'), ('fund', 'VERB'), ('anticipates', 'VERB'), ('link', 'VERB'), ('describe', 'VERB'), ('roll', 'VERB'), ('calculate', 'VERB'), ('transferring', 'VERB'), ('favored', 'VERB'), ('claiming', 'VERB'), ('hurting', 'VERB'), ('investing', 'VERB'), ('trained', 'VERB'), ('instituted', 'VERB'), ('introducing', 'VERB'), ('vowed', 'VERB'), ('deemed', 'VERB'), ('pose', 'VERB'), ('concerned', 'VERB'), ('accelerated', 'VERB'), ('feels', 'VERB'), ('solved', 'VERB'), ('forgiven', 'VERB'), ('stored', 'VERB'), ('assembled', 'VERB'), ('totaling', 'VERB'), ('linked', 'VERB'), ('forces', 'VERB'), ('attempts', 'VERB'), ('advertised', 'VERB'), ('marks', 'VERB'), ('sweeping', 'VERB'), ('invest', 'VERB'), ('kicked', 'VERB'), ('brings', 'VERB'), ('scrambled', 'VERB'), ('diversify', 'VERB'), ('swing', 'VERB'), ('skyrocketed', 'VERB'), ('targeted', 'VERB'), ('repaid', 'VERB'), ('open', 'VERB'), ('crippled', 'VERB'), ('lent', 'VERB'), ('belongs', 'VERB'), ('stressed', 'VERB'), ('leveling', 'VERB'), ('manufactured', 'VERB'), ('pick', 'VERB'), ('cite', 'VERB'), ('provoke', 'VERB'), ('last', 'VERB'), ('climbing', 'VERB'), ('Excluding', 'VERB'), ('adjusting', 'VERB'), ('counts', 'VERB'), ('handle', 'VERB'), ('polled', 'VERB'), ('drink', 'VERB'), ('sets', 'VERB'), ('sidestep', 'VERB'), ('fare', 'VERB'), ('letting', 'VERB'), ('entering', 'VERB'), ('ban', 'VERB'), ('visiting', 'VERB'), ('endorsed', 'VERB'), ('balked', 'VERB'), ('compensate', 'VERB'), ('terminated', 'VERB'), ('modify', 'VERB'), ('operated', 'VERB'), ('entitles', 'VERB'), ('romanticized', 'VERB'), ('spends', 'VERB'), ('condemned', 'VERB'), ('competing', 'VERB'), ('returning', 'VERB'), ('murdered', 'VERB'), ('load', 'VERB'), ('lives', 'VERB'), ('recommend', 'VERB'), ('fighting', 'VERB'), ('fills', 'VERB'), ('charges', 'VERB'), ('exist', 'VERB'), ('Stung', 'VERB'), ('banning', 'VERB'), ('admitted', 'VERB'), ('talks', 'VERB'), ('launch', 'VERB'), ('attracted', 'VERB'), ('featured', 'VERB'), ('devote', 'VERB'), ('featuring', 'VERB'), ('suing', 'VERB'), ('shrinks', 'VERB'), ('tripled', 'VERB'), ('pumping', 'VERB'), ('contributing', 'VERB'), ('spur', 'VERB'), ('concentrated', 'VERB'), ('export', 'VERB'), ('pull', 'VERB'), ('approach', 'VERB'), ('step', 'VERB'), ('regard', 'VERB'), ('breach', 'VERB'), ('pleaded', 'VERB'), ('inspired', 'VERB'), ('defended', 'VERB'), ('treated', 'VERB'), ('casts', 'VERB'), ('violated', 'VERB'), ('enforce', 'VERB'), ('surfaced', 'VERB'), ('concentrate', 'VERB'), ('stressing', 'VERB'), ('suffered', 'VERB'), ('loved', 'VERB'), ('advised', 'VERB'), ('studying', 'VERB'), ('pushing', 'VERB'), ('earn', 'VERB'), ('save', 'VERB'), ('interviewed', 'VERB'), ('explain', 'VERB'), ('gauge', 'VERB'), ('measured', 'VERB'), ('deny', 'VERB'), ('hampered', 'VERB'), ('fill', 'VERB'), ('nominated', 'VERB'), ('assured', 'VERB'), ('finding', 'VERB'), ('conducting', 'VERB'), ('tracks', 'VERB'), ('merge', 'VERB'), ('merged', 'VERB'), ('banking', 'VERB'), ('achieve', 'VERB'), ('acquiring', 'VERB'), ('post', 'VERB'), ('wish', 'VERB'), ('retained', 'VERB'), ('spark', 'VERB'), ('chaired', 'VERB'), ('deal', 'VERB'), ('submit', 'VERB'), ('sending', 'VERB'), ('test', 'VERB'), ('relegated', 'VERB'), ('alleging', 'VERB'), ('mounted', 'VERB'), ('harass', 'VERB'), ('crossing', 'VERB'), ('involves', 'VERB'), ('assist', 'VERB'), ('killing', 'VERB'), ('served', 'VERB'), ('understood', 'VERB'), ('touch', 'VERB'), ('Asked', 'VERB'), ('design', 'VERB'), ('retaining', 'VERB'), ('belonging', 'VERB'), ('compiled', 'VERB'), ('Guaranteed', 'VERB'), ('positioned', 'VERB'), ('plunging', 'VERB'), ('locked', 'VERB'), ('starts', 'VERB'), ('waiting', 'VERB'), ('rolled', 'VERB'), ('lock', 'VERB'), ('drifted', 'VERB'), ('measures', 'VERB'), ('Estimated', 'VERB'), ('keeps', 'VERB'), ('laughing', 'VERB'), ('persuade', 'VERB'), ('renew', 'VERB'), ('survive', 'VERB'), ('Founded', 'VERB'), ('identify', 'VERB'), ('chastised', 'VERB'), ('pointing', 'VERB'), ('question', 'VERB'), ('sleep', 'VERB'), ('handled', 'VERB'), ('specializes', 'VERB'), ('pressed', 'VERB'), ('ward', 'VERB'), ('sweetened', 'VERB'), ('allocated', 'VERB'), ('criticized', 'VERB'), ('place', 'VERB'), ('mired', 'VERB'), ('responding', 'VERB'), ('requiring', 'VERB'), ('address', 'VERB'), ('praised', 'VERB'), ('noting', 'VERB'), ('withstand', 'VERB'), ('phasing', 'VERB'), ('installed', 'VERB'), ('joins', 'VERB'), ('prevailing', 'VERB'), ('succeeding', 'VERB'), ('weighed', 'VERB'), ('perceived', 'VERB'), ('remarked', 'VERB'), ('appeal', 'VERB'), ('lowering', 'VERB'), ('moderated', 'VERB'), ('posting', 'VERB'), ('agrees', 'VERB'), ('stated', 'VERB'), ('reject', 'VERB'), ('fails', 'VERB'), ('redeem', 'VERB'), ('estimates', 'VERB'), ('frozen', 'VERB'), ('advancing', 'VERB'), ('rushed', 'VERB'), ('supplies', 'VERB'), ('surprised', 'VERB'), ('collapsed', 'VERB'), ('answer', 'VERB'), ('licensed', 'VERB'), ('disagree', 'VERB'), ('focusing', 'VERB'), ('publicized', 'VERB'), ('pressure', 'VERB'), ('clarify', 'VERB'), ('view', 'VERB'), ('putting', 'VERB'), ('reports', 'VERB'), ('feed', 'VERB'), ('declines', 'VERB'), ('Adds', 'VERB'), ('drive', 'VERB'), ('omitted', 'VERB'), ('assumed', 'VERB'), ('lure', 'VERB'), ('qualify', 'VERB'), ('throws', 'VERB'), ('targets', 'VERB'), ('promoting', 'VERB'), ('target', 'VERB'), ('switched', 'VERB'), ('enabling', 'VERB'), ('scrambling', 'VERB'), ('define', 'VERB'), ('demanding', 'VERB'), ('ailing', 'VERB'), ('delay', 'VERB'), ('Think', 'VERB'), ('arguing', 'VERB'), ('hitting', 'VERB'), ('regulating', 'VERB'), ('sounded', 'VERB'), ('train', 'VERB'), ('worries', 'VERB'), ('rung', 'VERB'), ('invented', 'VERB'), ('weigh', 'VERB'), ('sound', 'VERB'), ('speaks', 'VERB'), ('absorbed', 'VERB'), ('swap', 'VERB'), ('ringing', 'VERB'), ('publish', 'VERB'), ('founded', 'VERB'), ('signing', 'VERB'), ('observed', 'VERB'), ('desired', 'VERB'), ('kill', 'VERB'), ('risen', 'VERB'), ('sustained', 'VERB'), ('sued', 'VERB'), ('commit', 'VERB'), ('easing', 'VERB'), ('traveling', 'VERB'), ('welcome', 'VERB'), ('loaded', 'VERB'), ('states', 'VERB'), ('passing', 'VERB'), ('spending', 'VERB'), ('puts', 'VERB'), ('transacting', 'VERB'), ('engaged', 'VERB'), ('plays', 'VERB'), ('resist', 'VERB'), ('marching', 'VERB'), ('cope', 'VERB'), ('drove', 'VERB'), ('pegged', 'VERB'), ('compromise', 'VERB'), ('enacted', 'VERB'), ('faced', 'VERB'), ('negotiated', 'VERB'), ('implies', 'VERB'), ('fold', 'VERB'), ('winning', 'VERB'), ('Assuming', 'VERB'), ('Taking', 'VERB'), ('flows', 'VERB'), ('relies', 'VERB'), ('stimulating', 'VERB'), ('confined', 'VERB'), ('planning', 'VERB'), ('abandon', 'VERB'), ('funding', 'VERB'), ('lose', 'VERB'), ('install', 'VERB'), ('upset', 'VERB'), ('hang', 'VERB'), ('promises', 'VERB'), ('sees', 'VERB'), ('house', 'VERB'), ('preserving', 'VERB'), ('covering', 'VERB'), ('resulted', 'VERB'), ('proved', 'VERB'), ('examined', 'VERB'), ('lack', 'VERB'), ('lacks', 'VERB'), ('connected', 'VERB'), ('subscribe', 'VERB'), ('underwent', 'VERB'), ('conduct', 'VERB'), ('predict', 'VERB'), ('organized', 'VERB'), ('diminished', 'VERB'), ('purchase', 'VERB'), ('tune', 'VERB'), ('enables', 'VERB'), ('intend', 'VERB'), ('answered', 'VERB'), ('reshaping', 'VERB'), ('oriented', 'VERB'), ('controlled', 'VERB'), ('restructuring', 'VERB'), ('eliminating', 'VERB'), ('naming', 'VERB'), ('lending', 'VERB'), ('Posted', 'VERB'), ('succeeded', 'VERB'), ('signals', 'VERB'), ('withhold', 'VERB'), ('contradict', 'VERB'), ('placing', 'VERB'), ('rewrite', 'VERB'), ('nominate', 'VERB'), ('choosing', 'VERB'), ('prevents', 'VERB'), ('implement', 'VERB'), ('discharge', 'VERB'), ('establish', 'VERB'), ('entrusted', 'VERB'), ('works', 'VERB'), ('extending', 'VERB'), ('benefit', 'VERB'), ('range', 'VERB'), ('exceeding', 'VERB'), ('attempted', 'VERB'), ('recovered', 'VERB'), ('encouraging', 'VERB'), ('begun', 'VERB'), ('maximize', 'VERB'), ('chooses', 'VERB'), ('fly', 'VERB'), ('engage', 'VERB'), ('obligated', 'VERB'), ('recover', 'VERB'), ('labeled', 'VERB'), ('refuse', 'VERB'), ('denounce', 'VERB'), ('occurs', 'VERB'), ('seize', 'VERB'), ('halted', 'VERB'), ('transformed', 'VERB'), ('complains', 'VERB'), ('trades', 'VERB'), ('beaten', 'VERB'), ('performing', 'VERB'), ('match', 'VERB'), ('contribute', 'VERB'), ('surrounding', 'VERB'), ('tolerate', 'VERB'), ('affect', 'VERB'), ('bearing', 'VERB'), ('creates', 'VERB'), ('limiting', 'VERB'), ('denouncing', 'VERB'), ('cooled', 'VERB'), ('overcome', 'VERB'), ('cautioned', 'VERB'), ('rated', 'VERB'), ('indicating', 'VERB'), ('sink', 'VERB'), ('claimed', 'VERB'), ('benefits', 'VERB'), ('discontinued', 'VERB'), ('maintain', 'VERB'), ('meaning', 'VERB'), ('competes', 'VERB'), ('selected', 'VERB'), ('participate', 'VERB'), ('bolstered', 'VERB'), ('unveil', 'VERB'), ('devise', 'VERB'), ('falls', 'VERB'), ('doubted', 'VERB'), ('attempt', 'VERB'), ('ship', 'VERB'), ('curtail', 'VERB'), ('confirm', 'VERB'), ('diluted', 'VERB'), ('write', 'VERB'), ('subdued', 'VERB'), ('exchange', 'VERB'), ('liquidated', 'VERB'), ('capitalized', 'VERB'), ('shrank', 'VERB'), ('reaching', 'VERB'), ('narrowed', 'VERB'), ('specialized', 'VERB'), ('bribed', 'VERB'), ('shipping', 'VERB'), ('strike', 'VERB'), ('diagnosed', 'VERB'), ('classified', 'VERB'), ('outlawed', 'VERB'), ('poured', 'VERB'), ('hung', 'VERB'), ('ventilated', 'VERB'), ('slide', 'VERB'), ('tracked', 'VERB'), ('lengthened', 'VERB'), ('pour', 'VERB'), ('invests', 'VERB'), ('waiving', 'VERB'), ('ensnarled', 'VERB'), ('default', 'VERB'), ('oversee', 'VERB'), ('jet', 'VERB'), ('raced', 'VERB'), ('hauled', 'VERB'), ('drooled', 'VERB'), ('boarding', 'VERB'), ('renovated', 'VERB'), ('Knowing', 'VERB'), ('eat', 'VERB'), ('tempts', 'VERB'), ('accumulated', 'VERB'), ('underscore', 'VERB'), ('guaranteed', 'VERB'), ('awards', 'VERB'), ('shore', 'VERB'), ('matters', 'VERB'), ('values', 'VERB'), ('evaluated', 'VERB'), ('emerges', 'VERB'), ('attracts', 'VERB'), ('speed', 'VERB'), ('cluttered', 'VERB'), ('refile', 'VERB'), ('expedited', 'VERB'), ('entertain', 'VERB'), ('slash', 'VERB'), ('tracking', 'VERB'), ('disputed', 'VERB'), ('audit', 'VERB'), ('collecting', 'VERB'), ('refunded', 'VERB'), ('setting', 'VERB'), ('arising', 'VERB'), ('diversifying', 'VERB'), ('depend', 'VERB'), ('scrapped', 'VERB'), ('needing', 'VERB'), ('complicate', 'VERB'), ('existed', 'VERB'), ('Regarded', 'VERB'), ('watching', 'VERB'), ('harms', 'VERB'), ('offending', 'VERB'), ('discouraging', 'VERB'), ('deterring', 'VERB'), ('lauded', 'VERB'), ('aid', 'VERB'), ('initialing', 'VERB'), ('amending', 'VERB'), ('compel', 'VERB'), ('enact', 'VERB'), ('specializing', 'VERB'), ('craft', 'VERB'), ('merit', 'VERB'), ('halve', 'VERB'), ('aspires', 'VERB'), ('CHANGED', 'VERB'), ('store', 'VERB'), ('adapted', 'VERB'), ('reaches', 'VERB'), ('Following', 'VERB'), ('divest', 'VERB'), ('achieved', 'VERB'), ('wallowing', 'VERB'), ('resume', 'VERB'), ('assisted', 'VERB'), ('redeploy', 'VERB'), ('channel', 'VERB'), ('addressing', 'VERB'), ('incorporated', 'VERB'), ('Pick', 'VERB'), ('capped', 'VERB'), ('quips', 'VERB'), ('mirrors', 'VERB'), ('issuing', 'VERB'), ('stake', 'VERB'), ('stretching', 'VERB'), ('urge', 'VERB'), ('emerging', 'VERB'), ('outpaced', 'VERB'), ('burned', 'VERB'), ('whipsaw', 'VERB'), ('clobbered', 'VERB'), ('alarmed', 'VERB'), ('fattened', 'VERB'), ('jumping', 'VERB'), ('seized', 'VERB'), ('amended', 'VERB'), ('satisfying', 'VERB'), ('booked', 'VERB'), ('taper', 'VERB'), ('slip', 'VERB'), ('watched', 'VERB'), ('conforms', 'VERB'), ('eases', 'VERB'), ('accounts', 'VERB'), ('contrast', 'VERB'), ('signaling', 'VERB'), ('delivering', 'VERB'), ('abating', 'VERB'), ('lengthen', 'VERB'), ('gauges', 'VERB'), ('import', 'VERB'), ('acknowledging', 'VERB'), ('numbered', 'VERB'), ('Judging', 'VERB'), ('whistle', 'VERB'), ('recognizing', 'VERB'), ('refreshing', 'VERB'), ('perpetuate', 'VERB'), ('rooted', 'VERB'), ('mark', 'VERB'), ('meets', 'VERB'), ('wears', 'VERB'), ('published', 'VERB'), ('dominating', 'VERB'), ('expands', 'VERB'), ('depending', 'VERB'), ('abide', 'VERB'), ('wear', 'VERB'), ('rationed', 'VERB'), ('hosted', 'VERB'), ('invades', 'VERB'), ('assigned', 'VERB'), ('frustrating', 'VERB'), ('invent', 'VERB'), ('bans', 'VERB'), ('restricts', 'VERB'), ('designated', 'VERB'), ('surveyed', 'VERB'), ('espouse', 'VERB'), ('undertaking', 'VERB'), ('back', 'VERB'), ('name', 'VERB'), ('establishing', 'VERB'), ('strapped', 'VERB'), ('twinned', 'VERB'), ('authorized', 'VERB'), ('painted', 'VERB'), ('exchanging', 'VERB'), ('accrued', 'VERB'), ('swapped', 'VERB'), ('laid', 'VERB'), ('obsessed', 'VERB'), ('refitting', 'VERB'), ('shot', 'VERB'), ('Filmed', 'VERB'), ('noticing', 'VERB'), ('jostle', 'VERB'), ('hangs', 'VERB'), ('populated', 'VERB'), ('curled', 'VERB'), ('sketching', 'VERB'), ('returns', 'VERB'), ('cure', 'VERB'), ('alerts', 'VERB'), ('tuck', 'VERB'), ('dreamed', 'VERB'), ('resonate', 'VERB'), ('glamorize', 'VERB'), ('ends', 'VERB'), ('collaborated', 'VERB'), ('enabled', 'VERB'), ('chopped', 'VERB'), ('eating', 'VERB'), ('drinking', 'VERB'), ('celebrate', 'VERB'), ('accounting', 'VERB'), ('scattered', 'VERB'), ('ushering', 'VERB'), ('attack', 'VERB'), ('hid', 'VERB'), ('prosecute', 'VERB'), ('unleashed', 'VERB'), ('Compare', 'VERB'), ('argues', 'VERB'), ('superimposed', 'VERB'), ('nurtured', 'VERB'), ('dissolves', 'VERB'), ('transforming', 'VERB'), ('shake', 'VERB'), ('recalling', 'VERB'), (\"C'mon\", 'VERB'), ('interjects', 'VERB'), ('interrogated', 'VERB'), ('lasted', 'VERB'), ('carrying', 'VERB'), ('aired', 'VERB'), ('Remember', 'VERB'), ('Consider', 'VERB'), ('rusted', 'VERB'), ('swim', 'VERB'), ('purrs', 'VERB'), ('cry', 'VERB'), ('cleaned', 'VERB'), ('devastating', 'VERB'), ('propelling', 'VERB'), ('sparking', 'VERB'), ('posing', 'VERB'), ('knitted', 'VERB'), ('forcing', 'VERB'), ('encourages', 'VERB'), ('resists', 'VERB'), ('swelling', 'VERB'), ('offend', 'VERB'), ('parallel', 'VERB'), ('assemble', 'VERB'), ('reasserts', 'VERB'), ('designing', 'VERB'), ('outstrips', 'VERB'), ('outranks', 'VERB'), ('voice', 'VERB'), ('convey', 'VERB'), ('monopolize', 'VERB'), ('sew', 'VERB'), ('spotted', 'VERB'), ('Confronted', 'VERB'), ('answers', 'VERB'), ('display', 'VERB'), ('underline', 'VERB'), ('prosecuted', 'VERB'), ('enhanced', 'VERB'), ('cheat', 'VERB'), ('bolster', 'VERB'), ('depended', 'VERB'), ('inflated', 'VERB'), ('suspects', 'VERB'), ('revising', 'VERB'), ('telegraph', 'VERB'), ('posts', 'VERB'), ('rates', 'VERB'), ('prosecuting', 'VERB'), ('Standing', 'VERB'), ('educated', 'VERB'), ('faded', 'VERB'), ('bled', 'VERB'), ('stabbed', 'VERB'), ('resolved', 'VERB'), ('clean', 'VERB'), ('ushered', 'VERB'), ('Being', 'VERB'), ('dreamt', 'VERB'), ('struggled', 'VERB'), ('distinguished', 'VERB'), ('pair', 'VERB'), ('prepare', 'VERB'), ('polish', 'VERB'), ('correcting', 'VERB'), ('deteriorating', 'VERB'), ('Winning', 'VERB'), ('demand', 'VERB'), ('attending', 'VERB'), ('copied', 'VERB'), ('broke', 'VERB'), ('cared', 'VERB'), ('defeats', 'VERB'), ('concedes', 'VERB'), ('recalls', 'VERB'), ('crowded', 'VERB'), ('testify', 'VERB'), ('decried', 'VERB'), ('overused', 'VERB'), ('enraged', 'VERB'), ('expunged', 'VERB'), ('cranked', 'VERB'), ('evaluating', 'VERB'), ('touched', 'VERB'), ('justifying', 'VERB'), ('defeat', 'VERB'), ('aces', 'VERB'), ('replicated', 'VERB'), ('devised', 'VERB'), ('awarding', 'VERB'), ('rate', 'VERB'), ('replicate', 'VERB'), ('contains', 'VERB'), ('replicating', 'VERB'), ('discontinue', 'VERB'), ('implant', 'VERB'), ('recommended', 'VERB'), ('embroiled', 'VERB'), ('recruit', 'VERB'), ('opposes', 'VERB'), ('imposing', 'VERB'), ('defuse', 'VERB'), ('head', 'VERB'), ('judged', 'VERB'), ('disturbs', 'VERB'), ('moves', 'VERB'), ('polarized', 'VERB'), ('exists', 'VERB'), ('warns', 'VERB'), ('discourage', 'VERB'), ('regenerate', 'VERB'), ('Rekindled', 'VERB'), ('averaged', 'VERB'), ('anticipating', 'VERB'), ('permitting', 'VERB'), ('uptick', 'VERB'), ('expires', 'VERB'), ('favor', 'VERB'), ('leapt', 'VERB'), ('protected', 'VERB'), ('receives', 'VERB'), ('acted', 'VERB'), ('red-flag', 'VERB'), ('Filling', 'VERB'), ('tip', 'VERB'), ('condemning', 'VERB'), ('prohibited', 'VERB'), ('disclosing', 'VERB'), ('orders', 'VERB'), ('committing', 'VERB'), ('initiated', 'VERB'), ('dating', 'VERB'), ('mailed', 'VERB'), ('relating', 'VERB'), ('quitting', 'VERB'), ('quipped', 'VERB'), ('blinks', 'VERB'), ('punish', 'VERB'), ('reviewing', 'VERB'), ('consists', 'VERB'), ('punishing', 'VERB'), ('retaliating', 'VERB'), ('UPHELD', 'VERB'), ('bar', 'VERB'), ('obtaining', 'VERB'), ('advocate', 'VERB'), ('CLEARS', 'VERB'), ('sentencing', 'VERB'), ('referring', 'VERB'), ('cruising', 'VERB'), ('picking', 'VERB'), ('appointed', 'VERB'), ('commenting', 'VERB'), ('Observing', 'VERB'), ('exhibited', 'VERB'), ('discredit', 'VERB'), ('empowered', 'VERB'), ('manipulate', 'VERB'), ('SWITCHING', 'VERB'), ('specialize', 'VERB'), ('apologizing', 'VERB'), ('indulging', 'VERB'), ('rebuked', 'VERB'), ('fretted', 'VERB'), ('summoned', 'VERB'), ('apologize', 'VERB'), ('sacrificing', 'VERB'), ('complain', 'VERB'), ('undercut', 'VERB'), ('slashing', 'VERB'), ('map', 'VERB'), ('emerge', 'VERB'), ('lagging', 'VERB'), ('switch', 'VERB'), ('phase', 'VERB'), ('equals', 'VERB'), ('counting', 'VERB'), ('fabricate', 'VERB'), ('Related', 'VERB'), ('converting', 'VERB'), ('speculate', 'VERB'), ('buoyed', 'VERB'), ('underpin', 'VERB'), ('reasons', 'VERB'), ('convinced', 'VERB'), ('erode', 'VERB'), ('traced', 'VERB'), ('mollified', 'VERB'), ('redeeming', 'VERB'), ('recede', 'VERB'), ('air', 'VERB'), ('fuming', 'VERB'), ('tell', 'VERB'), ('flooded', 'VERB'), ('fawning', 'VERB'), ('thumbing', 'VERB'), ('billed', 'VERB'), ('combines', 'VERB'), ('happens', 'VERB'), ('flush', 'VERB'), ('deem', 'VERB'), ('alienated', 'VERB'), ('practicing', 'VERB'), ('fumes', 'VERB'), ('portrayed', 'VERB'), ('relied', 'VERB'), ('recycled', 'VERB'), ('scared', 'VERB'), ('replies', 'VERB'), ('supply', 'VERB'), ('serviced', 'VERB'), ('Developed', 'VERB'), ('pitches', 'VERB'), ('top', 'VERB'), ('characterizing', 'VERB'), ('entrench', 'VERB'), ('confuse', 'VERB'), ('materialize', 'VERB'), ('converted', 'VERB'), ('equip', 'VERB'), ('equipped', 'VERB'), ('urging', 'VERB'), ('classed', 'VERB'), ('weighing', 'VERB'), ('depressed', 'VERB'), ('installing', 'VERB'), ('enclosed', 'VERB'), ('transporting', 'VERB'), ('retires', 'VERB'), ('lay', 'VERB'), ('retiring', 'VERB'), ('single', 'VERB'), ('rarefied', 'VERB'), ('zoomed', 'VERB'), ('boast', 'VERB'), ('inching', 'VERB'), ('crack', 'VERB'), ('encroaching', 'VERB'), ('steal', 'VERB'), ('commanded', 'VERB'), ('command', 'VERB'), ('happening', 'VERB'), ('exhausted', 'VERB'), ('ripen', 'VERB'), ('yielded', 'VERB'), ('Is', 'VERB'), ('Offering', 'VERB'), ('wins', 'VERB'), ('talked', 'VERB'), ('excited', 'VERB'), ('overpriced', 'VERB'), ('walking', 'VERB'), ('achieving', 'VERB'), ('shown', 'VERB'), ('resisting', 'VERB'), ('tilt', 'VERB'), ('mailing', 'VERB'), ('warrants', 'VERB'), ('expired', 'VERB'), ('postponed', 'VERB'), ('rescheduled', 'VERB'), ('maturing', 'VERB'), ('refunding', 'VERB'), ('approves', 'VERB'), ('clearing', 'VERB'), ('decides', 'VERB'), ('aim', 'VERB'), ('book', 'VERB'), ('Continuing', 'VERB'), ('evaporated', 'VERB'), ('contract', 'VERB'), ('rebuffed', 'VERB'), ('reviewed', 'VERB'), ('clamped', 'VERB'), ('lessening', 'VERB'), ('agreeing', 'VERB'), ('spurns', 'VERB'), ('replacing', 'VERB'), ('interested', 'VERB'), ('challenging', 'VERB'), ('license', 'VERB'), ('combat', 'VERB'), ('patented', 'VERB'), ('color', 'VERB'), ('perceives', 'VERB'), ('stirred', 'VERB'), ('impending', 'VERB'), ('devoted', 'VERB'), ('escalated', 'VERB'), ('stoked', 'VERB'), ('asserting', 'VERB'), ('highlight', 'VERB'), ('clarified', 'VERB'), ('sorting', 'VERB'), ('crossed', 'VERB'), ('gauging', 'VERB'), ('trust', 'VERB'), ('improves', 'VERB'), ('penetrate', 'VERB'), ('guided', 'VERB'), ('treats', 'VERB'), ('milked', 'VERB'), ('bankroll', 'VERB'), ('parallels', 'VERB'), ('catch', 'VERB'), ('foundering', 'VERB'), ('queuing', 'VERB'), ('generate', 'VERB'), ('double', 'VERB'), ('ai', 'VERB'), ('pine', 'VERB'), ('checking', 'VERB'), ('competed', 'VERB'), ('bundling', 'VERB'), ('segmenting', 'VERB'), ('saving', 'VERB'), ('borrowing', 'VERB'), ('borrowed', 'VERB'), ('aiming', 'VERB'), ('tailoring', 'VERB'), ('packaging', 'VERB'), ('begot', 'VERB'), ('computerize', 'VERB'), ('analyze', 'VERB'), ('worrying', 'VERB'), ('cultivated', 'VERB'), ('attracting', 'VERB'), ('rewarding', 'VERB'), ('flourish', 'VERB'), ('tailored', 'VERB'), ('amend', 'VERB'), ('delete', 'VERB'), ('resubmit', 'VERB'), ('develops', 'VERB'), ('markets', 'VERB'), ('Send', 'VERB'), ('Make', 'VERB'), ('teetering', 'VERB'), ('Performing', 'VERB'), ('experience', 'VERB'), ('troubled', 'VERB'), ('builds', 'VERB'), ('sagging', 'VERB'), ('institute', 'VERB'), ('reinstating', 'VERB'), ('skidded', 'VERB'), ('lessen', 'VERB'), ('reopened', 'VERB'), ('knocked', 'VERB'), ('synchronized', 'VERB'), ('aggravated', 'VERB'), ('directing', 'VERB'), ('lapses', 'VERB'), ('heating', 'VERB'), ('angered', 'VERB'), ('annoyed', 'VERB'), ('attended', 'VERB'), ('evoke', 'VERB'), ('cascading', 'VERB'), ('calling', 'VERB'), ('chat', 'VERB'), ('enjoying', 'VERB'), ('herald', 'VERB'), ('sounding', 'VERB'), ('scrape', 'VERB'), ('drift', 'VERB'), ('diminish', 'VERB'), ('pealing', 'VERB'), ('descending', 'VERB'), ('altering', 'VERB'), ('state', 'VERB'), ('memorize', 'VERB'), ('pulling', 'VERB'), ('disappears', 'VERB'), ('snaking', 'VERB'), ('muffled', 'VERB'), ('stare', 'VERB'), ('time', 'VERB'), ('advance', 'VERB'), ('retard', 'VERB'), ('finds', 'VERB'), ('filled', 'VERB'), ('stays', 'VERB'), ('stuck', 'VERB'), ('skip', 'VERB'), ('sit', 'VERB'), ('dwindling', 'VERB'), ('pressing', 'VERB'), ('sacked', 'VERB'), ('rings', 'VERB'), ('refuses', 'VERB'), ('aims', 'VERB'), ('speak', 'VERB'), ('entitled', 'VERB'), ('attacking', 'VERB'), ('fainting', 'VERB'), ('dressed', 'VERB'), ('decorated', 'VERB'), ('faint', 'VERB'), ('bless', 'VERB'), ('unsettled', 'VERB'), ('breathe', 'VERB'), ('warn', 'VERB'), ('mating', 'VERB'), ('sliding', 'VERB'), ('pushes', 'VERB'), ('tanked', 'VERB'), ('escaped', 'VERB'), ('behaving', 'VERB'), ('factors', 'VERB'), ('forecasting', 'VERB'), ('declare', 'VERB'), ('measure', 'VERB'), ('Having', 'VERB'), ('infringed', 'VERB'), ('established', 'VERB'), ('enter', 'VERB'), ('discontinuing', 'VERB'), ('servicing', 'VERB'), ('lacked', 'VERB'), ('spoke', 'VERB'), ('afflicted', 'VERB'), ('harped', 'VERB'), ('seduce', 'VERB'), ('reciting', 'VERB'), ('reminded', 'VERB'), ('ordering', 'VERB'), ('speaking', 'VERB'), ('reprove', 'VERB'), ('mend', 'VERB'), ('deteriorated', 'VERB'), ('codified', 'VERB'), ('brief', 'VERB'), ('pulled', 'VERB'), ('acknowledge', 'VERB'), ('shoot', 'VERB'), ('hoped', 'VERB'), ('encounter', 'VERB'), ('arrived', 'VERB'), ('encircling', 'VERB'), ('discarded', 'VERB'), ('clicked', 'VERB'), ('Lure', 'VERB'), ('accusing', 'VERB'), ('jeopardizing', 'VERB'), ('barking', 'VERB'), ('visited', 'VERB'), ('Earns', 'VERB'), ('disapprove', 'VERB'), ('imply', 'VERB'), ('perpetuates', 'VERB'), ('defined', 'VERB'), ('disciplined', 'VERB'), ('Reached', 'VERB'), ('rectified', 'VERB'), ('differ', 'VERB'), ('complaining', 'VERB'), ('screwed', 'VERB'), ('breaking', 'VERB'), ('blocked', 'VERB'), ('emigrate', 'VERB'), ('loom', 'VERB'), ('shrug', 'VERB'), ('overlap', 'VERB'), ('exploit', 'VERB'), ('imagine', 'VERB'), ('racing', 'VERB'), ('forgotten', 'VERB'), ('tightened', 'VERB'), ('reaped', 'VERB'), ('ascribe', 'VERB'), ('serves', 'VERB'), ('unwind', 'VERB'), ('manages', 'VERB'), ('bend', 'VERB'), ('Adopting', 'VERB'), ('touted', 'VERB'), ('impart', 'VERB'), ('fought', 'VERB'), ('acceded', 'VERB'), ('Can', 'VERB'), ('entice', 'VERB'), ('negotiating', 'VERB'), ('opens', 'VERB'), ('Given', 'VERB'), ('overpaying', 'VERB'), ('picked', 'VERB'), ('researching', 'VERB'), ('arrest', 'VERB'), ('occupying', 'VERB'), ('impressed', 'VERB'), ('fundraising', 'VERB'), ('enticed', 'VERB'), ('befuddled', 'VERB'), ('demonstrating', 'VERB'), ('possessed', 'VERB'), ('skipped', 'VERB'), ('Moving', 'VERB'), ('graduated', 'VERB'), ('engineered', 'VERB'), ('inherited', 'VERB'), ('buffet', 'VERB'), ('attributes', 'VERB'), ('concentrating', 'VERB'), ('diversified', 'VERB'), ('contrasts', 'VERB'), ('provoked', 'VERB'), ('shaping', 'VERB'), ('authorizing', 'VERB'), ('reallocate', 'VERB'), ('draws', 'VERB'), ('stripped', 'VERB'), ('reallocated', 'VERB'), ('broadened', 'VERB'), ('upsetting', 'VERB'), ('instructed', 'VERB'), ('drafted', 'VERB'), ('insert', 'VERB'), ('waived', 'VERB'), ('bounce', 'VERB'), ('Takes', 'VERB'), ('AGREES', 'VERB'), ('repaired', 'VERB'), ('crashing', 'VERB'), ('prefer', 'VERB'), ('teaches', 'VERB'), ('blocks', 'VERB'), ('Competes', 'VERB'), ('PORTING', 'VERB'), ('resembles', 'VERB'), ('tote', 'VERB'), ('acknowledges', 'VERB'), ('Touches', 'VERB'), ('travel', 'VERB'), ('learn', 'VERB'), ('Fails', 'VERB'), (\"'S\", 'VERB'), ('propose', 'VERB'), ('altered', 'VERB'), ('counteract', 'VERB'), ('correct', 'VERB'), ('cooperating', 'VERB'), ('corrected', 'VERB'), ('promised', 'VERB'), ('removing', 'VERB'), ('safeguarding', 'VERB'), ('contest', 'VERB'), ('contesting', 'VERB'), ('implied', 'VERB'), ('quoting', 'VERB'), ('emphasized', 'VERB'), ('predispose', 'VERB'), ('composed', 'VERB'), ('defying', 'VERB'), ('possess', 'VERB'), ('exhibits', 'VERB'), ('living', 'VERB'), ('quote', 'VERB'), ('robbed', 'VERB'), ('fend', 'VERB'), ('dismiss', 'VERB'), ('sleeping', 'VERB'), ('bothered', 'VERB'), ('chose', 'VERB'), ('insinuating', 'VERB'), ('participated', 'VERB'), ('Choose', 'VERB'), ('deprived', 'VERB'), ('views', 'VERB'), ('override', 'VERB'), ('impede', 'VERB'), ('impaired', 'VERB'), ('overriding', 'VERB'), ('dubbed', 'VERB'), ('broadcasting', 'VERB'), ('propagandize', 'VERB'), ('sounds', 'VERB'), ('propagandizes', 'VERB'), ('viewing', 'VERB'), ('inform', 'VERB'), ('clipped', 'VERB'), ('broadcasts', 'VERB'), ('copying', 'VERB'), ('photocopying', 'VERB'), ('transcribe', 'VERB'), ('reprint', 'VERB'), ('happened', 'VERB'), ('disseminate', 'VERB'), ('preclude', 'VERB'), ('disseminating', 'VERB'), ('mentioned', 'VERB'), ('appearing', 'VERB'), ('requesting', 'VERB'), ('examine', 'VERB'), ('disagreed', 'VERB'), ('proscribes', 'VERB'), ('abridging', 'VERB'), ('prescribe', 'VERB'), ('assure', 'VERB'), ('mind', 'VERB'), ('sends', 'VERB'), ('photocopy', 'VERB'), ('wield', 'VERB'), ('dividing', 'VERB'), ('searching', 'VERB'), ('reacted', 'VERB'), ('wound', 'VERB'), ('advocated', 'VERB'), ('convince', 'VERB'), ('applaud', 'VERB'), ('exuded', 'VERB'), ('sitting', 'VERB'), ('OFFERED', 'VERB'), ('Annualized', 'VERB'), ('clashed', 'VERB'), ('evolved', 'VERB'), ('enjoyed', 'VERB'), ('centers', 'VERB'), ('recruited', 'VERB'), ('intimidate', 'VERB'), ('uttering', 'VERB'), ('Provided', 'VERB'), ('guarding', 'VERB'), ('predicated', 'VERB'), ('construed', 'VERB'), ('emasculate', 'VERB'), ('swallow', 'VERB'), ('ensure', 'VERB'), ('deliberating', 'VERB'), ('containing', 'VERB'), ('strip', 'VERB'), ('places', 'VERB'), ('appoint', 'VERB'), ('empowers', 'VERB'), ('granting', 'VERB'), ('repeals', 'VERB'), ('imposes', 'VERB'), ('recommending', 'VERB'), ('select', 'VERB'), ('inquiring', 'VERB'), ('subjecting', 'VERB'), ('prohibiting', 'VERB'), ('wasted', 'VERB'), ('illustrates', 'VERB'), ('usurp', 'VERB'), ('administer', 'VERB'), ('disapproved', 'VERB'), ('amounts', 'VERB'), ('invite', 'VERB'), ('suit', 'VERB'), ('undo', 'VERB'), ('ratified', 'VERB'), ('assert', 'VERB'), ('restricting', 'VERB'), ('trespass', 'VERB'), ('characterized', 'VERB'), ('excise', 'VERB'), ('conflict', 'VERB'), ('exerting', 'VERB'), ('asserts', 'VERB'), ('sue', 'VERB'), ('loses', 'VERB'), ('presumes', 'VERB'), ('drawing', 'VERB'), ('deducting', 'VERB'), ('saved', 'VERB'), ('reclaim', 'VERB'), ('mortgaged', 'VERB'), ('soaring', 'VERB'), ('reclaimed', 'VERB'), ('parched', 'VERB'), ('profited', 'VERB'), ('confirms', 'VERB'), ('helps', 'VERB'), ('curtailed', 'VERB'), ('strengthened', 'VERB'), ('log', 'VERB'), ('cushioned', 'VERB'), ('dominates', 'VERB'), ('materialized', 'VERB'), ('torn', 'VERB'), ('staid', 'VERB'), ('flirted', 'VERB'), ('folded', 'VERB'), ('looks', 'VERB'), ('brightened', 'VERB'), ('restored', 'VERB'), ('limping', 'VERB'), ('recruiting', 'VERB'), ('crying', 'VERB'), ('filling', 'VERB'), ('headlined', 'VERB'), ('Closes', 'VERB'), ('Forget', 'VERB'), ('handed', 'VERB'), ('beleaguered', 'VERB'), ('boosting', 'VERB'), ('explaining', 'VERB'), ('disclose', 'VERB'), ('approached', 'VERB'), ('project', 'VERB'), ('broaden', 'VERB'), ('screened', 'VERB'), ('missed', 'VERB'), ('preapproved', 'VERB'), ('test-drive', 'VERB'), ('recovering', 'VERB'), ('retraced', 'VERB'), ('accounted', 'VERB'), ('betting', 'VERB'), ('vested', 'VERB'), ('engaging', 'VERB'), ('exhaust', 'VERB'), ('quashing', 'VERB'), ('shaken', 'VERB'), ('reeling', 'VERB'), ('heated', 'VERB'), ('control', 'VERB'), ('reap', 'VERB'), ('exacerbated', 'VERB'), ('consisting', 'VERB'), ('Defending', 'VERB'), ('mobilizing', 'VERB'), ('bludgeon', 'VERB'), ('telephone', 'VERB'), ('rallying', 'VERB'), ('Kill', 'VERB'), ('wedded', 'VERB'), ('waited', 'VERB'), ('sneaked', 'VERB'), ('conceding', 'VERB'), ('headed', 'VERB'), ('curbed', 'VERB'), ('pitting', 'VERB'), ('battle', 'VERB'), ('entrenched', 'VERB'), ('facilitate', 'VERB'), ('stacked', 'VERB'), ('portray', 'VERB'), ('beg', 'VERB'), ('constitute', 'VERB'), ('profess', 'VERB'), ('despise', 'VERB'), ('frightened', 'VERB'), ('unload', 'VERB'), ('manage', 'VERB'), ('juggle', 'VERB'), ('mirror', 'VERB'), ('automated', 'VERB'), ('threatens', 'VERB'), ('striving', 'VERB'), ('dislike', 'VERB'), ('spooked', 'VERB'), ('stacking', 'VERB'), ('scaring', 'VERB'), ('resent', 'VERB'), ('orchestrated', 'VERB'), ('hunker', 'VERB'), ('gored', 'VERB'), ('proven', 'VERB'), ('minted', 'VERB'), ('Sit', 'VERB'), ('panic', 'VERB'), ('enjoy', 'VERB'), ('chase', 'VERB'), ('protects', 'VERB'), ('destroy', 'VERB'), ('picks', 'VERB'), ('practiced', 'VERB'), ('leveraging', 'VERB'), ('owning', 'VERB'), ('arise', 'VERB'), ('evolve', 'VERB'), ('evoking', 'VERB'), ('implemented', 'VERB'), ('Reducing', 'VERB'), ('responds', 'VERB'), ('causes', 'VERB'), ('initiating', 'VERB'), ('transfers', 'VERB'), ('functioning', 'VERB'), ('decrease', 'VERB'), ('sacrifice', 'VERB'), ('Eliminate', 'VERB'), ('Encouraging', 'VERB'), ('labeling', 'VERB'), ('please', 'VERB'), ('concern', 'VERB'), ('undergoing', 'VERB'), ('scream', 'VERB'), ('hailing', 'VERB'), ('abounding', 'VERB'), ('Could', 'VERB'), ('wooing', 'VERB'), ('bringing', 'VERB'), ('Getting', 'VERB'), ('abolishing', 'VERB'), ('championing', 'VERB'), ('cater', 'VERB'), ('advise', 'VERB'), ('amass', 'VERB'), ('devouring', 'VERB'), ('grapple', 'VERB'), ('Legislating', 'VERB'), ('Left', 'VERB'), ('matter', 'VERB'), ('inviting', 'VERB'), ('transfer', 'VERB'), ('executes', 'VERB'), ('fear', 'VERB'), ('augment', 'VERB'), ('appropriated', 'VERB'), ('notify', 'VERB'), ('completing', 'VERB'), ('stifle', 'VERB'), ('sanctions', 'VERB'), ('inhibit', 'VERB'), ('noticed', 'VERB'), ('ratcheting', 'VERB'), ('initiatives', 'VERB'), ('backing', 'VERB'), ('gains', 'VERB'), ('documented', 'VERB'), ('fetching', 'VERB'), ('DIALING', 'VERB'), ('eyeing', 'VERB'), ('migrate', 'VERB'), ('predicts', 'VERB'), ('TRIMMING', 'VERB'), ('string', 'VERB'), ('colored', 'VERB'), ('prompts', 'VERB'), ('Funded', 'VERB'), ('Concerned', 'VERB'), ('shrinking', 'VERB'), ('stresses', 'VERB'), ('spurned', 'VERB'), ('spurring', 'VERB'), ('doubts', 'VERB'), ('echoed', 'VERB'), ('heading', 'VERB'), ('blames', 'VERB'), ('overvalued', 'VERB'), ('spook', 'VERB'), ('curbing', 'VERB'), ('Citing', 'VERB'), ('outlawing', 'VERB'), ('disappear', 'VERB'), ('dealing', 'VERB'), ('decries', 'VERB'), ('adapting', 'VERB'), ('factoring', 'VERB'), ('comments', 'VERB'), ('Arbitraging', 'VERB'), ('defends', 'VERB'), ('recouped', 'VERB'), ('weather', 'VERB'), ('hunted', 'VERB'), ('controls', 'VERB'), ('promise', 'VERB'), ('bombarding', 'VERB'), ('breathed', 'VERB'), ('demonstrates', 'VERB'), ('undercutting', 'VERB'), ('changes', 'VERB'), ('pins', 'VERB'), ('Determining', 'VERB'), ('enable', 'VERB'), ('combine', 'VERB'), ('Rated', 'VERB'), ('insured', 'VERB'), ('digs', 'VERB'), ('afford', 'VERB'), ('ranging', 'VERB'), ('scoffs', 'VERB'), ('looked', 'VERB'), ('redistribute', 'VERB'), ('fielded', 'VERB'), ('concede', 'VERB'), ('endorse', 'VERB'), ('disagrees', 'VERB'), ('justified', 'VERB'), ('erect', 'VERB'), ('erodes', 'VERB'), ('shoring', 'VERB'), ('structured', 'VERB'), ('stretch', 'VERB'), ('downgraded', 'VERB'), ('acquires', 'VERB'), ('generated', 'VERB'), ('arranged', 'VERB'), ('rebounding', 'VERB'), ('overstated', 'VERB'), ('circulated', 'VERB'), ('experiencing', 'VERB'), ('midsized', 'VERB'), ('eclipse', 'VERB'), ('stretched', 'VERB'), ('debate', 'VERB'), ('recall', 'VERB'), ('Beginning', 'VERB'), ('assessed', 'VERB'), ('duck', 'VERB'), ('twisting', 'VERB'), ('reversed', 'VERB'), ('chilled', 'VERB'), ('hidden', 'VERB'), ('favors', 'VERB'), ('accompany', 'VERB'), ('introduces', 'VERB'), ('even', 'VERB'), ('understands', 'VERB'), ('trash', 'VERB'), ('inserted', 'VERB'), ('refer', 'VERB'), ('harmed', 'VERB'), ('wrecking', 'VERB'), ('smothering', 'VERB'), ('Declining', 'VERB'), ('outnumbered', 'VERB'), ('surge', 'VERB'), ('directed', 'VERB'), ('stimulated', 'VERB'), ('affecting', 'VERB'), ('tempted', 'VERB'), ('overdone', 'VERB'), ('hugging', 'VERB'), ('shed', 'VERB'), ('tender', 'VERB'), ('waive', 'VERB'), ('sweeten', 'VERB'), ('shopping', 'VERB'), ('notched', 'VERB'), ('searched', 'VERB'), ('calculated', 'VERB'), ('equaling', 'VERB'), ('Hold', 'VERB'), ('tackle', 'VERB'), ('paint', 'VERB'), ('spackle', 'VERB'), ('charging', 'VERB'), ('disposed', 'VERB'), ('Named', 'VERB'), ('stayed', 'VERB'), ('revised', 'VERB'), ('worsen', 'VERB'), ('conducted', 'VERB'), ('ranked', 'VERB'), ('blurred', 'VERB'), ('varied', 'VERB'), ('enhances', 'VERB'), ('compare', 'VERB'), ('topped', 'VERB'), ('outdistanced', 'VERB'), ('wanting', 'VERB'), ('relaunched', 'VERB'), ('repriced', 'VERB'), ('Bucking', 'VERB'), ('drew', 'VERB'), ('exceeds', 'VERB'), ('underperforming', 'VERB'), ('guarantee', 'VERB'), ('hailed', 'VERB'), ('despised', 'VERB'), ('junk', 'VERB'), ('subsidize', 'VERB'), ('sparing', 'VERB'), ('sticking', 'VERB'), ('avoiding', 'VERB'), ('present', 'VERB'), ('appease', 'VERB'), ('burn', 'VERB'), ('tinker', 'VERB'), ('resign', 'VERB'), ('co-founded', 'VERB'), ('coordinate', 'VERB'), ('disconnect', 'VERB'), ('heightened', 'VERB'), ('routes', 'VERB'), ('scans', 'VERB'), ('resumes', 'VERB'), ('halt', 'VERB'), ('slides', 'VERB'), ('Used', 'VERB'), ('zip', 'VERB'), ('handles', 'VERB'), ('nullified', 'VERB'), ('swapping', 'VERB'), ('multiplying', 'VERB'), ('mimics', 'VERB'), ('signifying', 'VERB'), ('puzzled', 'VERB'), ('position', 'VERB'), ('challenge', 'VERB'), ('rebound', 'VERB'), ('notified', 'VERB'), ('tapping', 'VERB'), ('land', 'VERB'), ('cleared', 'VERB'), ('delisted', 'VERB'), ('oust', 'VERB'), ('explore', 'VERB'), ('trail', 'VERB'), ('emerged', 'VERB'), ('muscling', 'VERB'), ('singled', 'VERB'), ('sagged', 'VERB'), ('granted', 'VERB'), ('am', 'VERB'), ('confused', 'VERB'), ('complicated', 'VERB'), ('fuel', 'VERB'), ('muted', 'VERB'), ('Continued', 'VERB'), ('buys', 'VERB'), ('ignored', 'VERB'), ('secede', 'VERB'), ('free', 'VERB'), ('rang', 'VERB'), ('accrue', 'VERB'), ('termed', 'VERB'), ('stemmed', 'VERB'), ('deter', 'VERB'), ('magnified', 'VERB'), ('nonrecurring', 'VERB'), ('reimbursed', 'VERB'), ('Advancing', 'VERB'), ('arrive', 'VERB'), ('firmed', 'VERB'), ('faltered', 'VERB'), ('awaits', 'VERB'), ('sense', 'VERB'), ('stick', 'VERB'), ('mount', 'VERB'), ('withdrew', 'VERB'), ('convert', 'VERB'), ('distributed', 'VERB'), ('experienced', 'VERB'), ('Depending', 'VERB'), ('customized', 'VERB'), ('simulates', 'VERB'), ('softening', 'VERB'), ('distributes', 'VERB'), ('produces', 'VERB'), ('outbid', 'VERB'), ('derived', 'VERB'), ('averted', 'VERB'), ('slated', 'VERB'), ('realestate', 'VERB'), ('adopt', 'VERB'), ('staying', 'VERB'), ('reorganized', 'VERB'), ('plagued', 'VERB'), ('bounced', 'VERB'), ('ENDED', 'VERB'), ('reaffirmed', 'VERB'), ('thwart', 'VERB'), ('demobilize', 'VERB'), ('brushed', 'VERB'), ('renewing', 'VERB'), ('fled', 'VERB'), ('armed', 'VERB'), ('neighboring', 'VERB'), ('violating', 'VERB'), ('sabotage', 'VERB'), ('assassinated', 'VERB'), ('avenge', 'VERB'), ('implements', 'VERB'), ('pledged', 'VERB'), ('impeding', 'VERB'), ('defeated', 'VERB'), ('rigged', 'VERB'), ('Am', 'VERB'), ('subpoenaed', 'VERB'), ('planted', 'VERB'), ('exploded', 'VERB'), ('Died', 'VERB'), ('tendering', 'VERB'), ('laying', 'VERB'), ('centralized', 'VERB'), ('climb', 'VERB'), ('APPEARS', 'VERB'), ('steps', 'VERB'), ('resigning', 'VERB'), ('depends', 'VERB'), ('fizzled', 'VERB'), ('fault', 'VERB'), ('flies', 'VERB'), ('restructure', 'VERB'), ('mulling', 'VERB'), ('mitigate', 'VERB'), ('reserved', 'VERB'), ('restructures', 'VERB'), ('battered', 'VERB'), ('floated', 'VERB'), ('shopped', 'VERB'), ('spun', 'VERB'), ('capitalize', 'VERB'), ('Note', 'VERB'), ('induce', 'VERB'), ('advocating', 'VERB'), ('rating', 'VERB'), ('engineering', 'VERB'), ('shedding', 'VERB'), ('injuring', 'VERB'), ('investigate', 'VERB'), ('defines', 'VERB'), ('assess', 'VERB'), ('estimate', 'VERB'), ('questioned', 'VERB'), ('trim', 'VERB'), ('trimmed', 'VERB'), ('detailed', 'VERB'), ('reading', 'VERB'), ('traveled', 'VERB'), ('revolves', 'VERB'), ('rolling', 'VERB'), ('mandates', 'VERB'), ('born', 'VERB'), ('falsify', 'VERB'), ('plugged', 'VERB'), ('rebuilding', 'VERB'), ('Starting', 'VERB'), ('bribing', 'VERB'), ('fashioned', 'VERB'), ('befell', 'VERB'), ('wrestling', 'VERB'), ('arrested', 'VERB'), ('Absorbed', 'VERB'), ('doling', 'VERB'), ('gloss', 'VERB'), ('expressing', 'VERB'), ('scoop', 'VERB'), ('redistributing', 'VERB'), ('influencing', 'VERB'), ('brokering', 'VERB'), ('line', 'VERB'), ('form', 'VERB'), ('finalized', 'VERB'), ('lease', 'VERB'), ('avert', 'VERB'), ('injecting', 'VERB'), ('dashed', 'VERB'), ('repay', 'VERB'), ('sputtered', 'VERB'), ('harvested', 'VERB'), ('loading', 'VERB'), ('reaping', 'VERB'), ('gyrate', 'VERB'), ('scrounge', 'VERB'), ('trimming', 'VERB'), ('feeds', 'VERB'), ('sank', 'VERB'), ('alleviate', 'VERB'), ('slowed', 'VERB'), ('hamstrung', 'VERB'), ('budding', 'VERB'), ('rebuild', 'VERB'), ('depleted', 'VERB'), ('winding', 'VERB'), ('speculating', 'VERB'), ('gather', 'VERB'), ('permits', 'VERB'), ('projects', 'VERB'), ('relieve', 'VERB'), ('hauling', 'VERB'), ('compressed', 'VERB'), ('delayed', 'VERB'), ('tightening', 'VERB'), ('influenced', 'VERB'), ('precedes', 'VERB'), ('points', 'VERB'), ('riding', 'VERB'), ('earning', 'VERB'), ('plummeted', 'VERB'), ('exceeded', 'VERB'), ('coated', 'VERB'), ('soliciting', 'VERB'), ('scuttle', 'VERB'), ('authorizes', 'VERB'), ('shared', 'VERB'), ('supports', 'VERB')]\n"
          ],
          "name": "stdout"
        }
      ]
    },
    {
      "cell_type": "code",
      "metadata": {
        "id": "b5vYNWDX7Kwv",
        "colab_type": "code",
        "colab": {
          "base_uri": "https://localhost:8080/",
          "height": 51
        },
        "outputId": "fc1db5f6-cd8b-4265-e24a-c6e12cf59c24"
      },
      "source": [
        "#let's find what is the most POS come after 'often'\n",
        "brown_lrnd_tagged = nltk.corpus.brown.tagged_words(categories='learned',tagset='universal')\n",
        "tags = [b[1] for (a,b) in nltk.bigrams(brown_lrnd_tagged) if a[0]=='often']\n",
        "fd = nltk.FreqDist(tags)\n",
        "fd.tabulate() "
      ],
      "execution_count": 14,
      "outputs": [
        {
          "output_type": "stream",
          "text": [
            "VERB  ADV  ADP  ADJ    .  PRT \n",
            "  37    8    7    6    4    2 \n"
          ],
          "name": "stdout"
        }
      ]
    },
    {
      "cell_type": "markdown",
      "metadata": {
        "id": "1s-q-E4K8X3j",
        "colab_type": "text"
      },
      "source": [
        "noun never appears :\""
      ]
    },
    {
      "cell_type": "code",
      "metadata": {
        "id": "7zoeRgEl8bzt",
        "colab_type": "code",
        "colab": {
          "base_uri": "https://localhost:8080/",
          "height": 51
        },
        "outputId": "1883888e-0cf9-46ee-d9a0-1c542f35b014"
      },
      "source": [
        "#little revision on dict, i liked this function\n",
        "nltk.download('words')\n",
        "last_letters = nltk.defaultdict(list)\n",
        "words = nltk.corpus.words.words('en')\n",
        "for w in words:\n",
        "  key = w[-2:]\n",
        "  last_letters[key].append(w)"
      ],
      "execution_count": 16,
      "outputs": [
        {
          "output_type": "stream",
          "text": [
            "[nltk_data] Downloading package words to /root/nltk_data...\n",
            "[nltk_data]   Package words is already up-to-date!\n"
          ],
          "name": "stdout"
        }
      ]
    },
    {
      "cell_type": "code",
      "metadata": {
        "id": "9wUnIbQyBqZs",
        "colab_type": "code",
        "colab": {
          "base_uri": "https://localhost:8080/",
          "height": 54
        },
        "outputId": "e079beea-d1eb-4cef-b989-95722aa8ed0b"
      },
      "source": [
        "print(last_letters['za'])"
      ],
      "execution_count": 18,
      "outputs": [
        {
          "output_type": "stream",
          "text": [
            "['Adeliza', 'Agromyza', 'alcarraza', 'Antholyza', 'Balsamorrhiza', 'balza', 'bonanza', 'boza', 'braza', 'Briza', 'cachaza', 'cadenza', 'calabaza', 'caza', 'chalaza', 'coleorhiza', 'colza', 'Corallorhiza', 'coryza', 'credenza', 'Cunza', 'Cyanospiza', 'czaritza', 'dactylorhiza', 'Daza', 'Eliza', 'Emberiza', 'extravaganza', 'ganza', 'Geissorhiza', 'Geospiza', 'Glycyrrhiza', 'granza', 'guaza', 'guereza', 'hamza', 'huzza', 'hydrorhiza', 'influenza', 'Itza', 'Jateorhiza', 'Juza', 'kouza', 'Lespedeza', 'Liza', 'matanza', 'maza', 'Melospiza', 'mestiza', 'mirza', 'murza', 'mycorhiza', 'neoza', 'nyanza', 'onza', 'Oryza', 'Osmorhiza', 'Peziza', 'piazza', 'picrorhiza', 'pileorhiza', 'pizza', 'plaza', 'pseudoinfluenza', 'Pseudopeziza', 'Pyrenopeziza', 'rhodorhiza', 'romanza', 'Saccorhiza', 'shinza', 'Speranza', 'stanza', 'tiza', 'tristeza', 'tsaritza', 'tuza', 'tzaritza', 'Xanthorrhiza', 'yaguaza', 'za', 'Zanthorrhiza', 'zuza']\n"
          ],
          "name": "stdout"
        }
      ]
    },
    {
      "cell_type": "code",
      "metadata": {
        "id": "vvLU7yY7C--S",
        "colab_type": "code",
        "colab": {
          "base_uri": "https://localhost:8080/",
          "height": 34
        },
        "outputId": "6109f283-96a7-42c8-d6d0-e2c9137e88ca"
      },
      "source": [
        "#and this one \n",
        "pos = nltk.defaultdict(lambda: nltk.defaultdict(int))\n",
        "brown_news_tagged = nltk.corpus.brown.tagged_words(categories=\"news\",tagset=\"universal\")\n",
        "for ((w1,t1),(w2,t2)) in nltk.bigrams(brown_news_tagged):\n",
        "  pos[(t1,w2)][t2] += 1\n",
        "print(pos[('ADV','right')]) "
      ],
      "execution_count": 19,
      "outputs": [
        {
          "output_type": "stream",
          "text": [
            "defaultdict(<class 'int'>, {'ADV': 3, 'ADJ': 1})\n"
          ],
          "name": "stdout"
        }
      ]
    },
    {
      "cell_type": "markdown",
      "metadata": {
        "id": "tGFBiBYSE6FI",
        "colab_type": "text"
      },
      "source": [
        "**automatic tagging ?**"
      ]
    },
    {
      "cell_type": "code",
      "metadata": {
        "id": "xZjI0LW6HJ-p",
        "colab_type": "code",
        "colab": {}
      },
      "source": [
        "from nltk.corpus import brown\n",
        "brown_tagged_sents = brown.tagged_sents(categories='news')\n",
        "brown_sents = brown.sents(categories='news')"
      ],
      "execution_count": 0,
      "outputs": []
    },
    {
      "cell_type": "code",
      "metadata": {
        "id": "anjdpMEIGc_Z",
        "colab_type": "code",
        "colab": {
          "base_uri": "https://localhost:8080/",
          "height": 34
        },
        "outputId": "53e8ba65-b111-4a5c-d742-3d2a01ba04f0"
      },
      "source": [
        "tags = [tag for (word,tag) in brown.tagged_words(categories='news')]\n",
        "print(nltk.FreqDist(tags).max())"
      ],
      "execution_count": 27,
      "outputs": [
        {
          "output_type": "stream",
          "text": [
            "NN\n"
          ],
          "name": "stdout"
        }
      ]
    },
    {
      "cell_type": "code",
      "metadata": {
        "id": "5Hvu_3EyE-2P",
        "colab_type": "code",
        "colab": {
          "base_uri": "https://localhost:8080/",
          "height": 88
        },
        "outputId": "f57ebdab-e5de-456b-f4ba-225485beed9a"
      },
      "source": [
        "nltk.download('punkt')\n",
        "raw ='I do not like green eggs and ham, I do not like them Sam I am!' \n",
        "tokens = nltk.word_tokenize(raw)\n",
        "default_tagger = nltk.DefaultTagger('NN')\n",
        "print(default_tagger.tag(tokens))"
      ],
      "execution_count": 28,
      "outputs": [
        {
          "output_type": "stream",
          "text": [
            "[nltk_data] Downloading package punkt to /root/nltk_data...\n",
            "[nltk_data]   Package punkt is already up-to-date!\n",
            "[('I', 'NN'), ('do', 'NN'), ('not', 'NN'), ('like', 'NN'), ('green', 'NN'), ('eggs', 'NN'), ('and', 'NN'), ('ham', 'NN'), (',', 'NN'), ('I', 'NN'), ('do', 'NN'), ('not', 'NN'), ('like', 'NN'), ('them', 'NN'), ('Sam', 'NN'), ('I', 'NN'), ('am', 'NN'), ('!', 'NN')]\n"
          ],
          "name": "stdout"
        }
      ]
    },
    {
      "cell_type": "code",
      "metadata": {
        "id": "StoPbMeNGvmo",
        "colab_type": "code",
        "colab": {
          "base_uri": "https://localhost:8080/",
          "height": 34
        },
        "outputId": "0248725e-daf6-4712-fc9d-ab82d3574d0d"
      },
      "source": [
        "default_tagger.evaluate(brown_tagged_sents)"
      ],
      "execution_count": 29,
      "outputs": [
        {
          "output_type": "execute_result",
          "data": {
            "text/plain": [
              "0.13089484257215028"
            ]
          },
          "metadata": {
            "tags": []
          },
          "execution_count": 29
        }
      ]
    },
    {
      "cell_type": "markdown",
      "metadata": {
        "id": "nUkAmxvFHiN0",
        "colab_type": "text"
      },
      "source": [
        "unsurprisingly, this method performs rather poorly"
      ]
    },
    {
      "cell_type": "code",
      "metadata": {
        "id": "X_tigJdLH8MH",
        "colab_type": "code",
        "colab": {}
      },
      "source": [
        "#maybe a regular expression tagger would work ?\n",
        "patterns = [\n",
        "            (r'.*ing$','VBG'),                # gerunds \n",
        "            (r'.*ed$','VBD'),                 # simple past \n",
        "            (r'.*es$', 'VNZ'),                # 3rd singular present \n",
        "            (r'.*ould$', 'MD'),               # modals \n",
        "            (r'.*\\'s$','NN$'),                # possessive nouns\n",
        "            (r'.*s$', 'NNS'),                 # plural nouns\n",
        "            (r'^-?[0-9]+(.[0-9]+)?$', 'CD'),  # cardinal numbers \n",
        "            (r'.*', 'NN')                     # nouns (default) \n",
        "]"
      ],
      "execution_count": 0,
      "outputs": []
    },
    {
      "cell_type": "code",
      "metadata": {
        "id": "gnmXXASaJTCz",
        "colab_type": "code",
        "colab": {
          "base_uri": "https://localhost:8080/",
          "height": 34
        },
        "outputId": "5f43cdbb-a41b-47b0-a1f6-2014a62f5047"
      },
      "source": [
        "regexp_tagger = nltk.RegexpTagger(patterns)\n",
        "regexp_tagger.evaluate(brown_tagged_sents)"
      ],
      "execution_count": 31,
      "outputs": [
        {
          "output_type": "execute_result",
          "data": {
            "text/plain": [
              "0.20131471647075203"
            ]
          },
          "metadata": {
            "tags": []
          },
          "execution_count": 31
        }
      ]
    },
    {
      "cell_type": "code",
      "metadata": {
        "id": "NaveZhF-Jwzj",
        "colab_type": "code",
        "colab": {
          "base_uri": "https://localhost:8080/",
          "height": 34
        },
        "outputId": "40d2490b-463e-4b2b-e6d8-5a2e6134582a"
      },
      "source": [
        "fd = nltk.FreqDist(brown.words(categories='news'))\n",
        "cfd = nltk.ConditionalFreqDist(brown.tagged_words(categories='news'))\n",
        "most_freq_words = list(fd.keys())[:100]\n",
        "likely_tags = dict((word,cfd[word].max())for word in most_freq_words)\n",
        "baseline_tagger = nltk.UnigramTagger(model=likely_tags,backoff=nltk.DefaultTagger('NN'))\n",
        "baseline_tagger.evaluate(brown_tagged_sents)"
      ],
      "execution_count": 33,
      "outputs": [
        {
          "output_type": "execute_result",
          "data": {
            "text/plain": [
              "0.46063806511923944"
            ]
          },
          "metadata": {
            "tags": []
          },
          "execution_count": 33
        }
      ]
    },
    {
      "cell_type": "markdown",
      "metadata": {
        "id": "YIKsjnPjLHUB",
        "colab_type": "text"
      },
      "source": [
        "almost 50%  with simply knowing the tags for the 100 most freguent words"
      ]
    },
    {
      "cell_type": "code",
      "metadata": {
        "id": "1h2Ia57jLZum",
        "colab_type": "code",
        "colab": {
          "base_uri": "https://localhost:8080/",
          "height": 295
        },
        "outputId": "e210e605-5022-4689-f889-af32b977ffcf"
      },
      "source": [
        "def performance(cfd,wordlist):\n",
        "  lt = dict((word,cfd[word].max())for word in wordlist)\n",
        "  baseline_tagger = nltk.UnigramTagger(model=lt,backoff=nltk.DefaultTagger('NN'))\n",
        "  return baseline_tagger.evaluate(brown.tagged_sents(categories='news'))\n",
        "def display():\n",
        "  import pylab\n",
        "  words_by_freq = list(nltk.FreqDist(brown.words(categories='news')))\n",
        "  cfd = nltk.ConditionalFreqDist(brown.tagged_words(categories='news'))\n",
        "  size = 2**pylab.arange(15)\n",
        "  prefs = [performance(cfd,words_by_freq[:size])for size in size]\n",
        "  pylab.plot(size,prefs,'-bo')\n",
        "  pylab.title('lookup tagger performance with varying model size')\n",
        "  pylab.xlabel('Model Size')\n",
        "  pylab.ylabel('Performance')\n",
        "  pylab.show()\n",
        "display()"
      ],
      "execution_count": 42,
      "outputs": [
        {
          "output_type": "display_data",
          "data": {
            "image/png": "[encoded data removed]",
            "text/plain": [
              "<Figure size 432x288 with 1 Axes>"
            ]
          },
          "metadata": {
            "tags": []
          }
        }
      ]
    },
    {
      "cell_type": "code",
      "metadata": {
        "id": "fVbvBlVCQ_46",
        "colab_type": "code",
        "colab": {
          "base_uri": "https://localhost:8080/",
          "height": 51
        },
        "outputId": "af9be32e-7b0f-4a7c-83b0-807ea9d5472d"
      },
      "source": [
        "#training and text\n",
        "size = int(len(brown_tagged_sents) * 0.9)\n",
        "print(size)\n",
        "train_sents = brown_tagged_sents[:size]\n",
        "test_sents = brown_tagged_sents[size:]\n",
        "unigram_tagger = nltk.UnigramTagger(train_sents)\n",
        "unigram_tagger.evaluate(test_sents)"
      ],
      "execution_count": 45,
      "outputs": [
        {
          "output_type": "stream",
          "text": [
            "4160\n"
          ],
          "name": "stdout"
        },
        {
          "output_type": "execute_result",
          "data": {
            "text/plain": [
              "0.8121200039868434"
            ]
          },
          "metadata": {
            "tags": []
          },
          "execution_count": 45
        }
      ]
    },
    {
      "cell_type": "code",
      "metadata": {
        "id": "112Rupr1R4HI",
        "colab_type": "code",
        "colab": {
          "base_uri": "https://localhost:8080/",
          "height": 71
        },
        "outputId": "59bf90c4-0c61-4c4d-e22c-f8ed07eb8e00"
      },
      "source": [
        "#why unigramTagger , aint we suppose to take care of the word in its sentence as well ?\n",
        "bigram_tagger = nltk.BigramTagger(train_sents)\n",
        "print(bigram_tagger.tag(brown_sents[2007]))\n",
        "bigram_tagger.evaluate(test_sents)"
      ],
      "execution_count": 48,
      "outputs": [
        {
          "output_type": "stream",
          "text": [
            "[('Various', 'JJ'), ('of', 'IN'), ('the', 'AT'), ('apartments', 'NNS'), ('are', 'BER'), ('of', 'IN'), ('the', 'AT'), ('terrace', 'NN'), ('type', 'NN'), (',', ','), ('being', 'BEG'), ('on', 'IN'), ('the', 'AT'), ('ground', 'NN'), ('floor', 'NN'), ('so', 'CS'), ('that', 'CS'), ('entrance', 'NN'), ('is', 'BEZ'), ('direct', 'JJ'), ('.', '.')]\n"
          ],
          "name": "stdout"
        },
        {
          "output_type": "execute_result",
          "data": {
            "text/plain": [
              "0.10206319146815508"
            ]
          },
          "metadata": {
            "tags": []
          },
          "execution_count": 48
        }
      ]
    },
    {
      "cell_type": "markdown",
      "metadata": {
        "id": "0Vu8jrB0SlP2",
        "colab_type": "text"
      },
      "source": [
        "Notice that the bigram tagger manages to tag every word in a sentence it saw during training, but does badly on an unseen sentence. As soon as it encounters a new word , it is unable to assign a tag. It cannot tag the following word (i.e., million), even if it was seen during training, simply because it never saw it during training with a None tag on the previous word. Consequently, the tagger fails to tag the rest of the sentence. Its overall accuracy score is very low"
      ]
    },
    {
      "cell_type": "markdown",
      "metadata": {
        "id": "f8bqtPr0TKPa",
        "colab_type": "text"
      },
      "source": [
        "why not combine **both of them**"
      ]
    },
    {
      "cell_type": "code",
      "metadata": {
        "id": "il_iDbZrSoTU",
        "colab_type": "code",
        "colab": {
          "base_uri": "https://localhost:8080/",
          "height": 34
        },
        "outputId": "93fd15dd-6a87-48ff-aaac-95053707e4f9"
      },
      "source": [
        "t0 = nltk.DefaultTagger('NN')\n",
        "t1 = nltk.UnigramTagger(train_sents, backoff=t0)\n",
        "t2 = nltk.BigramTagger(train_sents, backoff=t1)\n",
        "t2.evaluate(test_sents)"
      ],
      "execution_count": 51,
      "outputs": [
        {
          "output_type": "execute_result",
          "data": {
            "text/plain": [
              "0.8452108043456593"
            ]
          },
          "metadata": {
            "tags": []
          },
          "execution_count": 51
        }
      ]
    },
    {
      "cell_type": "markdown",
      "metadata": {
        "id": "RT6GLQbgWuxJ",
        "colab_type": "text"
      },
      "source": [
        "how to determine the class of the word -> by its morphological, syntactic, and semantic "
      ]
    }
  ]
}