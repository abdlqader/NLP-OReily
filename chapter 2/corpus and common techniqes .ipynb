{
  "nbformat": 4,
  "nbformat_minor": 0,
  "metadata": {
    "colab": {
      "name": "corpus and common techniques.ipynb",
      "provenance": [],
      "collapsed_sections": []
    },
    "kernelspec": {
      "name": "python3",
      "display_name": "Python 3"
    }
  },
  "cells": [
    {
      "cell_type": "code",
      "metadata": {
        "id": "uzZkzGv-GzNY",
        "colab_type": "code",
        "outputId": "38192f1a-e991-43fb-a212-56fb001ca884",
        "colab": {
          "base_uri": "https://localhost:8080/",
          "height": 88
        }
      },
      "source": [
        "import nltk\n",
        "from nltk.corpus import gutenberg\n",
        "nltk.download('gutenberg')\n",
        "print(gutenberg.fileids())"
      ],
      "execution_count": 1,
      "outputs": [
        {
          "output_type": "stream",
          "text": [
            "[nltk_data] Downloading package gutenberg to /root/nltk_data...\n",
            "[nltk_data]   Unzipping corpora/gutenberg.zip.\n",
            "['austen-emma.txt', 'austen-persuasion.txt', 'austen-sense.txt', 'bible-kjv.txt', 'blake-poems.txt', 'bryant-stories.txt', 'burgess-busterbrown.txt', 'carroll-alice.txt', 'chesterton-ball.txt', 'chesterton-brown.txt', 'chesterton-thursday.txt', 'edgeworth-parents.txt', 'melville-moby_dick.txt', 'milton-paradise.txt', 'shakespeare-caesar.txt', 'shakespeare-hamlet.txt', 'shakespeare-macbeth.txt', 'whitman-leaves.txt']\n"
          ],
          "name": "stdout"
        }
      ]
    },
    {
      "cell_type": "markdown",
      "metadata": {
        "id": "pTuVAyIhIaAT",
        "colab_type": "text"
      },
      "source": [
        "some statistics for each text"
      ]
    },
    {
      "cell_type": "code",
      "metadata": {
        "id": "EQS5Y2hyIfgg",
        "colab_type": "code",
        "outputId": "d5758af4-3f2f-4c21-9921-ad5902e96dce",
        "colab": {
          "base_uri": "https://localhost:8080/",
          "height": 357
        }
      },
      "source": [
        "nltk.download('punkt')\n",
        "for fileid in gutenberg.fileids():\n",
        "  num_char = len(gutenberg.raw(fileid))\n",
        "  num_word = len(gutenberg.words(fileid))\n",
        "  num_sent = len(gutenberg.sents(fileid))\n",
        "  num_vocab = len(set([w.lower() for w in gutenberg.words(fileid)]))\n",
        "  print(int(num_char/num_word),int(num_word/num_sent),int(num_word/num_vocab),fileid)"
      ],
      "execution_count": 2,
      "outputs": [
        {
          "output_type": "stream",
          "text": [
            "[nltk_data] Downloading package punkt to /root/nltk_data...\n",
            "[nltk_data]   Unzipping tokenizers/punkt.zip.\n",
            "4 24 26 austen-emma.txt\n",
            "4 26 16 austen-persuasion.txt\n",
            "4 28 22 austen-sense.txt\n",
            "4 33 79 bible-kjv.txt\n",
            "4 19 5 blake-poems.txt\n",
            "4 19 14 bryant-stories.txt\n",
            "4 17 12 burgess-busterbrown.txt\n",
            "4 20 12 carroll-alice.txt\n",
            "4 20 11 chesterton-ball.txt\n",
            "4 22 11 chesterton-brown.txt\n",
            "4 18 10 chesterton-thursday.txt\n",
            "4 20 24 edgeworth-parents.txt\n",
            "4 25 15 melville-moby_dick.txt\n",
            "4 52 10 milton-paradise.txt\n",
            "4 11 8 shakespeare-caesar.txt\n",
            "4 12 7 shakespeare-hamlet.txt\n",
            "4 12 6 shakespeare-macbeth.txt\n",
            "4 36 12 whitman-leaves.txt\n"
          ],
          "name": "stdout"
        }
      ]
    },
    {
      "cell_type": "code",
      "metadata": {
        "id": "pT-qJw5pM6oM",
        "colab_type": "code",
        "outputId": "b4255cfc-cf18-40fb-d475-5015bd4818e8",
        "colab": {
          "base_uri": "https://localhost:8080/",
          "height": 153
        }
      },
      "source": [
        "from nltk.corpus import brown\n",
        "nltk.download('brown')\n",
        "news_text = brown.words(categories='news')\n",
        "fdist = nltk.FreqDist([w.lower() for w in news_text])\n",
        "modals = ['can','could','may','might','must','will']\n",
        "for m in modals:\n",
        "  print(m + \":\",fdist[m])"
      ],
      "execution_count": 3,
      "outputs": [
        {
          "output_type": "stream",
          "text": [
            "[nltk_data] Downloading package brown to /root/nltk_data...\n",
            "[nltk_data]   Unzipping corpora/brown.zip.\n",
            "can: 94\n",
            "could: 87\n",
            "may: 93\n",
            "might: 38\n",
            "must: 53\n",
            "will: 389\n"
          ],
          "name": "stdout"
        }
      ]
    },
    {
      "cell_type": "code",
      "metadata": {
        "id": "k_R1IS0ZNkcQ",
        "colab_type": "code",
        "outputId": "33503a0a-a0ea-4aee-da86-f7bf06083a8e",
        "colab": {
          "base_uri": "https://localhost:8080/",
          "height": 306
        }
      },
      "source": [
        "cfd = nltk.ConditionalFreqDist(\n",
        "    (genre,word) for genre in brown.categories()\n",
        "    for word in brown.words(categories=genre)\n",
        ")\n",
        "genres =['news', 'religion', 'hobbies', 'science_fiction', 'romance', 'humor'] \n",
        "modals = ['can', 'could', 'may', 'might', 'must', 'will'] \n",
        "print(cfd.tabulate(condition=genres,samples=modals))"
      ],
      "execution_count": 4,
      "outputs": [
        {
          "output_type": "stream",
          "text": [
            "                  can could   may might  must  will \n",
            "      adventure    46   151     5    58    27    50 \n",
            " belles_lettres   246   213   207   113   170   236 \n",
            "      editorial   121    56    74    39    53   233 \n",
            "        fiction    37   166     8    44    55    52 \n",
            "     government   117    38   153    13   102   244 \n",
            "        hobbies   268    58   131    22    83   264 \n",
            "          humor    16    30     8     8     9    13 \n",
            "        learned   365   159   324   128   202   340 \n",
            "           lore   170   141   165    49    96   175 \n",
            "        mystery    42   141    13    57    30    20 \n",
            "           news    93    86    66    38    50   389 \n",
            "       religion    82    59    78    12    54    71 \n",
            "        reviews    45    40    45    26    19    58 \n",
            "        romance    74   193    11    51    45    43 \n",
            "science_fiction    16    49     4    12     8    16 \n",
            "None\n"
          ],
          "name": "stdout"
        }
      ]
    },
    {
      "cell_type": "code",
      "metadata": {
        "id": "XUZWsDqAO-kP",
        "colab_type": "code",
        "outputId": "16d84136-26b0-41ec-d1f7-ace505221efb",
        "colab": {
          "base_uri": "https://localhost:8080/",
          "height": 88
        }
      },
      "source": [
        "# An interesting property of this collection is its time dimension\n",
        "from nltk.corpus import inaugural\n",
        "nltk.download('inaugural')\n",
        "print(inaugural.fileids())"
      ],
      "execution_count": 5,
      "outputs": [
        {
          "output_type": "stream",
          "text": [
            "[nltk_data] Downloading package inaugural to /root/nltk_data...\n",
            "[nltk_data]   Unzipping corpora/inaugural.zip.\n",
            "['1789-Washington.txt', '1793-Washington.txt', '1797-Adams.txt', '1801-Jefferson.txt', '1805-Jefferson.txt', '1809-Madison.txt', '1813-Madison.txt', '1817-Monroe.txt', '1821-Monroe.txt', '1825-Adams.txt', '1829-Jackson.txt', '1833-Jackson.txt', '1837-VanBuren.txt', '1841-Harrison.txt', '1845-Polk.txt', '1849-Taylor.txt', '1853-Pierce.txt', '1857-Buchanan.txt', '1861-Lincoln.txt', '1865-Lincoln.txt', '1869-Grant.txt', '1873-Grant.txt', '1877-Hayes.txt', '1881-Garfield.txt', '1885-Cleveland.txt', '1889-Harrison.txt', '1893-Cleveland.txt', '1897-McKinley.txt', '1901-McKinley.txt', '1905-Roosevelt.txt', '1909-Taft.txt', '1913-Wilson.txt', '1917-Wilson.txt', '1921-Harding.txt', '1925-Coolidge.txt', '1929-Hoover.txt', '1933-Roosevelt.txt', '1937-Roosevelt.txt', '1941-Roosevelt.txt', '1945-Roosevelt.txt', '1949-Truman.txt', '1953-Eisenhower.txt', '1957-Eisenhower.txt', '1961-Kennedy.txt', '1965-Johnson.txt', '1969-Nixon.txt', '1973-Nixon.txt', '1977-Carter.txt', '1981-Reagan.txt', '1985-Reagan.txt', '1989-Bush.txt', '1993-Clinton.txt', '1997-Clinton.txt', '2001-Bush.txt', '2005-Bush.txt', '2009-Obama.txt', '2013-Obama.txt', '2017-Trump.txt']\n"
          ],
          "name": "stdout"
        }
      ]
    },
    {
      "cell_type": "code",
      "metadata": {
        "id": "RbgUTYwTQKqF",
        "colab_type": "code",
        "outputId": "1c36fe8d-607e-426e-e146-1b21bbdfbd8b",
        "colab": {
          "base_uri": "https://localhost:8080/",
          "height": 295
        }
      },
      "source": [
        "cfd = nltk.ConditionalFreqDist(\n",
        "    (target,fileid[:4])\n",
        "    for fileid in inaugural.fileids()\n",
        "    for w in inaugural.words(fileid)\n",
        "    for target in ['america','citizen']\n",
        "    if w.lower().startswith(target)\n",
        ")\n",
        "cfd.plot()"
      ],
      "execution_count": 6,
      "outputs": [
        {
          "output_type": "display_data",
          "data": {
            "image/png": "[encoded data removed]",
            "text/plain": [
              "<Figure size 432x288 with 1 Axes>"
            ]
          },
          "metadata": {
            "tags": []
          }
        }
      ]
    },
    {
      "cell_type": "code",
      "metadata": {
        "id": "b-L5gcGubRdp",
        "colab_type": "code",
        "outputId": "98874114-27ea-487e-a3e4-ac495fafe25c",
        "colab": {
          "base_uri": "https://localhost:8080/",
          "height": 85
        }
      },
      "source": [
        "#my turn example\n",
        "days = ['Monday','Tuesday','Wednesday','Thursday','Friday','Saturday']\n",
        "cfd = nltk.ConditionalFreqDist(\n",
        "    (genre,word) for genre in ['news','romance']\n",
        "    for word in brown.words(categories=genre)\n",
        ")\n",
        "genre = ['news','romance']\n",
        "print(cfd.tabulate(samples=days))"
      ],
      "execution_count": 7,
      "outputs": [
        {
          "output_type": "stream",
          "text": [
            "           Monday   Tuesday Wednesday  Thursday    Friday  Saturday \n",
            "   news        54        43        22        20        41        33 \n",
            "romance         2         3         3         1         3         4 \n",
            "None\n"
          ],
          "name": "stdout"
        }
      ]
    },
    {
      "cell_type": "code",
      "metadata": {
        "id": "jYyNFZgAhec0",
        "colab_type": "code",
        "outputId": "5a2a56f7-6051-41c9-d97b-919c24927e52",
        "colab": {
          "base_uri": "https://localhost:8080/",
          "height": 323
        }
      },
      "source": [
        "#example on bigrams\n",
        "nltk.download('genesis')\n",
        "text = nltk.corpus.genesis.words('english-kjv.txt')\n",
        "bigrams = nltk.bigrams(text)\n",
        "cfd = nltk.ConditionalFreqDist(bigrams)\n",
        "print(cfd['living'])\n",
        "def generate_model(cfdist, word, num=15):\n",
        "  for i in range(num):\n",
        "    print(word)\n",
        "    word = cfdist[word].max()\n",
        "generate_model(cfd,'living')"
      ],
      "execution_count": 8,
      "outputs": [
        {
          "output_type": "stream",
          "text": [
            "[nltk_data] Downloading package genesis to /root/nltk_data...\n",
            "[nltk_data]   Unzipping corpora/genesis.zip.\n",
            "<FreqDist with 6 samples and 16 outcomes>\n",
            "living\n",
            "creature\n",
            "that\n",
            "he\n",
            "said\n",
            ",\n",
            "and\n",
            "the\n",
            "land\n",
            "of\n",
            "the\n",
            "land\n",
            "of\n",
            "the\n",
            "land\n"
          ],
          "name": "stdout"
        }
      ]
    },
    {
      "cell_type": "code",
      "metadata": {
        "id": "sjjBWiFNpBDk",
        "colab_type": "code",
        "outputId": "cd36c3a7-29cd-4f90-9a99-7fef54e51d35",
        "colab": {
          "base_uri": "https://localhost:8080/",
          "height": 51
        }
      },
      "source": [
        "#simple autocorrect\n",
        "nltk.download(\"words\")\n",
        "def unusual_words(text):\n",
        "  text_vocab = set(w.lower() for w in text if w.isalpha())\n",
        "  english_vocab = set(w.lower() for w in nltk.corpus.words.words())\n",
        "  unusual = text_vocab.difference(english_vocab)\n",
        "  return sorted(unusual)"
      ],
      "execution_count": 9,
      "outputs": [
        {
          "output_type": "stream",
          "text": [
            "[nltk_data] Downloading package words to /root/nltk_data...\n",
            "[nltk_data]   Unzipping corpora/words.zip.\n"
          ],
          "name": "stdout"
        }
      ]
    },
    {
      "cell_type": "code",
      "metadata": {
        "id": "AOhZ5vNWpqUJ",
        "colab_type": "code",
        "outputId": "76fb58c0-c0cc-4b16-d2ab-7ea22ac46bfa",
        "colab": {
          "base_uri": "https://localhost:8080/",
          "height": 54
        }
      },
      "source": [
        "print(unusual_words(nltk.corpus.gutenberg.words('austen-sense.txt')))"
      ],
      "execution_count": 10,
      "outputs": [
        {
          "output_type": "stream",
          "text": [
            "['abbeyland', 'abhorred', 'abilities', 'abounded', 'abridgement', 'abused', 'abuses', 'accents', 'accepting', 'accommodations', 'accompanied', 'accounted', 'accounts', 'accustomary', 'aches', 'acknowledging', 'acknowledgment', 'acknowledgments', 'acquaintances', 'acquiesced', 'acquitted', 'acquitting', 'acted', 'actions', 'adapted', 'adding', 'additions', 'addressed', 'addresses', 'addressing', 'adhering', 'adieus', 'adjusting', 'administering', 'admirers', 'admires', 'admitting', 'adorned', 'advances', 'advantages', 'affairs', 'affections', 'affects', 'affixed', 'afflictions', 'afforded', 'affording', 'ages', 'agitated', 'agonies', 'ailments', 'aimed', 'alarms', 'alienated', 'alighted', 'alleged', 'allenham', 'allowances', 'allowed', 'allowing', 'alluded', 'alterations', 'altered', 'altering', 'amended', 'amounted', 'amusements', 'ankles', 'annamaria', 'annexed', 'announced', 'announcing', 'annuities', 'annum', 'answered', 'answering', 'answers', 'anticipated', 'anticipating', 'anticipations', 'anymore', 'apartments', 'apologies', 'apologising', 'apologized', 'appearances', 'appeared', 'appearing', 'appeased', 'appetites', 'applauded', 'applying', 'appointed', 'apprehended', 'apprehensions', 'approached', 'approved', 'arbour', 'ardour', 'arguments', 'arranged', 'arrangements', 'arranging', 'arrived', 'arrives', 'arriving', 'ascended', 'ascertained', 'asked', 'asking', 'assembled', 'assemblies', 'asserted', 'assertions', 'assiduities', 'assisted', 'assisting', 'associating', 'assurances', 'astonished', 'atoned', 'atoning', 'attaching', 'attachments', 'attacked', 'attacks', 'attained', 'attempted', 'attempting', 'attempts', 'attendants', 'attended', 'attending', 'attentions', 'attracted', 'attractions', 'attributed', 'attributing', 'auditors', 'augmenting', 'austen', 'authorised', 'authors', 'availed', 'avignon', 'avoided', 'avoiding', 'awaited', 'awakened', 'awaking', 'bags', 'balls', 'banished', 'barouches', 'bathed', 'bears', 'beasts', 'beauties', 'became', 'bedrooms', 'beds', 'befallen', 'befalls', 'befell', 'began', 'begged', 'begins', 'behaved', 'beings', 'believed', 'believes', 'belonged', 'belongs', 'benefited', 'bequeathed', 'berkeley', 'bestowed', 'betrayed', 'betraying', 'biased', 'blackest', 'blameable', 'blessings', 'blights', 'blossoms', 'blundered', 'blushed', 'blushes', 'bolder', 'bones', 'bonomi', 'books', 'booksellers', 'borrowed', 'bottoms', 'boys', 'breakfasting', 'bribing', 'brightened', 'brighter', 'bringing', 'brings', 'broader', 'brothers', 'bruised', 'buildings', 'bursts', 'buying', 'called', 'calls', 'calming', 'candles', 'candour', 'canvassing', 'cards', 'cares', 'caresses', 'careys', 'carriages', 'carries', 'cases', 'casts', 'cats', 'caused', 'ceased', 'ceasing', 'censured', 'centre', 'certainties', 'chagrined', 'chairs', 'chambers', 'chanced', 'changed', 'changes', 'changing', 'characters', 'charged', 'charmed', 'charms', 'cheated', 'checking', 'cheeks', 'cheerfuller', 'cherished', 'cherries', 'children', 'choked', 'chuse', 'chusing', 'circles', 'circumstances', 'civilities', 'claimed', 'claiming', 'claims', 'clarke', 'cleared', 'cleveland', 'clogged', 'closing', 'clouds', 'coats', 'collecting', 'coloured', 'colouring', 'combe', 'comforted', 'comforts', 'comings', 'commanded', 'commands', 'commended', 'comments', 'commissioned', 'commonest', 'communicated', 'companions', 'compared', 'compares', 'comparisons', 'complained', 'complaining', 'complaints', 'completed', 'compliments', 'comprehended', 'concealing', 'concerns', 'concessions', 'concluded', 'conclusions', 'conditions', 'conducted', 'confessed', 'confidante', 'conforming', 'congratulated', 'congratulating', 'congratulations', 'conjectured', 'conjectures', 'conjecturing', 'connections', 'conquests', 'consented', 'consequences', 'considerations', 'considers', 'consisted', 'consists', 'consoled', 'conspired', 'constantia', 'consulted', 'contained', 'containing', 'contend', 'contenting', 'continuing', 'contradicted', 'contrasted', 'contributed', 'contributing', 'contrived', 'contrives', 'contriving', 'controlled', 'conveniences', 'conversations', 'conversed', 'conversing', 'conveyed', 'conveying', 'copying', 'cordials', 'cottages', 'counsellor', 'counteracted', 'couples', 'courted', 'courting', 'courtland', 'cousins', 'cowper', 'cows', 'coxcombs', 'cramps', 'created', 'creating', 'creatures', 'cries', 'crimsoned', 'curtsying', 'cutlets', 'danced', 'dances', 'dared', 'darker', 'dartford', 'dashwood', 'dashwoods', 'daughters', 'davies', 'dawdled', 'dawlish', 'dawned', 'dearer', 'dearest', 'debated', 'debts', 'deceived', 'deciding', 'decisions', 'declares', 'declaring', 'declining', 'deemed', 'deeper', 'deepest', 'defects', 'defended', 'deficiencies', 'degrees', 'delaford', 'delayed', 'delays', 'deliberating', 'delicacies', 'delighful', 'delineated', 'delivered', 'demanded', 'demands', 'demonstrations', 'demur', 'denied', 'dennison', 'denoted', 'denoting', 'departing', 'depended', 'depends', 'deprived', 'described', 'describing', 'deserts', 'deserves', 'designs', 'desiring', 'despatch', 'despatching', 'despised', 'despising', 'destroyed', 'destroys', 'detaining', 'detected', 'detecting', 'determining', 'deterred', 'detested', 'devolved', 'died', 'dies', 'differed', 'differing', 'difficulties', 'dimensions', 'diminished', 'dined', 'dinners', 'directing', 'directions', 'disagreements', 'disappeared', 'disappointments', 'disapproved', 'disapproves', 'disapproving', 'discarded', 'discharged', 'disclaiming', 'disclosing', 'discontents', 'discovering', 'discussions', 'disgraced', 'disinherited', 'disliked', 'dismissed', 'dismounted', 'dispatched', 'dispatches', 'dispersing', 'disposing', 'disputes', 'disqualifications', 'disregarded', 'dissembling', 'dissented', 'distresses', 'distrusts', 'diverted', 'doatingly', 'donavan', 'doomed', 'dooming', 'doors', 'dorsetshire', 'doubted', 'doubts', 'douceur', 'downs', 'dr', 'drains', 'drawings', 'draws', 'dreaded', 'dreading', 'dreaming', 'dresses', 'drives', 'dropped', 'drops', 'drury', 'duets', 'duties', 'earlier', 'earliest', 'earned', 'ears', 'echoed', 'editions', 'edtions', 'effected', 'effecting', 'effusions', 'ellison', 'ellisons', 'eloping', 'eluded', 'embellishments', 'embraced', 'embraces', 'employments', 'enabled', 'enamoured', 'encouraged', 'encouragements', 'encroachments', 'encumbered', 'endeavoring', 'endeavors', 'endeavour', 'endeavoured', 'endeavouring', 'endeavours', 'endowed', 'ends', 'endured', 'enfeebled', 'enforcing', 'engagements', 'england', 'enjoyed', 'enjoyments', 'enquired', 'enquiries', 'enquiring', 'ensued', 'ensured', 'entered', 'entertained', 'entitled', 'entreated', 'entreaties', 'entrusted', 'equalled', 'equals', 'erred', 'errors', 'escaped', 'esq', 'establishing', 'esteemed', 'esteeming', 'esteems', 'estimating', 'estranged', 'evenings', 'events', 'evils', 'examined', 'exceeded', 'excellencies', 'exchanged', 'exclaimed', 'exclamations', 'excused', 'excuses', 'exercised', 'exercising', 'exerted', 'exertions', 'exeter', 'exhilarated', 'existed', 'expectations', 'expected', 'expecting', 'expects', 'expenses', 'experiencing', 'explained', 'explanations', 'expressing', 'expressions', 'extolling', 'extorted', 'extorting', 'extremest', 'eyeing', 'eyes', 'faces', 'facts', 'failed', 'falls', 'familiarized', 'families', 'fancying', 'fates', 'fatigued', 'fatigues', 'faults', 'favour', 'favourable', 'favourite', 'favourites', 'fearing', 'fears', 'features', 'feelings', 'feels', 'feet', 'felicitations', 'females', 'ferrars', 'fetches', 'fettered', 'finds', 'finest', 'fingers', 'flattered', 'flatteries', 'flowed', 'fluctuating', 'flushed', 'foibles', 'followed', 'follows', 'fond', 'footsteps', 'forebodings', 'foreplanned', 'foresaw', 'foreseeing', 'foreseen', 'forfeited', 'forfeiting', 'forgave', 'forgiven', 'forms', 'forsaking', 'fortunes', 'forwarded', 'foundations', 'founded', 'fowls', 'friendliest', 'friends', 'frightens', 'froid', 'frosts', 'fulfil', 'fulfilled', 'fullest', 'gained', 'gales', 'gardens', 'garrets', 'gates', 'gathered', 'generations', 'gentlemen', 'gigs', 'gilberts', 'girls', 'gives', 'glances', 'gloried', 'gloves', 'godby', 'goings', 'goodby', 'governed', 'gowns', 'graces', 'grandmothers', 'granted', 'greatest', 'grieves', 'grows', 'guardians', 'guessed', 'guests', 'guided', 'guineas', 'habits', 'hallooing', 'hands', 'handsomer', 'handsomest', 'hang', 'hanover', 'happened', 'happens', 'hardened', 'hardships', 'harley', 'has', 'hastened', 'hastening', 'hated', 'hates', 'hating', 'having', 'hazarded', 'hazarding', 'heads', 'heard', 'hears', 'heightened', 'heightening', 'heights', 'heirs', 'held', 'hens', 'henshawe', 'hesitated', 'hiding', 'hills', 'hinted', 'hints', 'hoarded', 'holborn', 'holburn', 'holds', 'holidays', 'homes', 'honeysuckles', 'honiton', 'honour', 'honourable', 'honourably', 'honoured', 'honours', 'hopes', 'hoping', 'horrors', 'horses', 'hours', 'houses', 'howsever', 'humbled', 'humiliations', 'humored', 'humoured', 'humouring', 'hunted', 'hunters', 'hunts', 'hurrying', 'husbands', 'huswifes', 'ideas', 'idled', 'idolized', 'ii', 'imaginations', 'imagined', 'imagining', 'imbibed', 'immoveable', 'imparted', 'imperfections', 'implied', 'implies', 'impoverished', 'impoverishing', 'improved', 'improvements', 'imputed', 'inclinations', 'inclined', 'inclosing', 'including', 'incommoded', 'inconveniences', 'increased', 'incurred', 'incurring', 'indulged', 'infants', 'inflicted', 'inflicting', 'influenced', 'inforce', 'inforced', 'informing', 'inhabitants', 'inhabiting', 'inheriting', 'injuries', 'inquired', 'inquiries', 'insinuations', 'insisted', 'installed', 'instigated', 'instructions', 'insulted', 'intends', 'intentions', 'intents', 'interests', 'interposed', 'interspersed', 'intervals', 'interviews', 'intimated', 'introduced', 'introducing', 'intruded', 'invented', 'inventing', 'invitations', 'invited', 'irritated', 'irritates', 'issued', 'jealousies', 'jenning', 'jennings', 'jewels', 'jilting', 'joined', 'joked', 'jokes', 'joking', 'joys', 'judged', 'judging', 'judgments', 'jumbled', 'justified', 'keeps', 'keys', 'kicked', 'kinder', 'kindest', 'kingham', 'kissed', 'kisses', 'knees', 'knives', 'knows', 'laboured', 'lamentations', 'lamps', 'lanes', 'languages', 'larger', 'largest', 'lasted', 'laughed', 'laughs', 'leagued', 'legacies', 'lengthened', 'lengths', 'lessened', 'lessening', 'letters', 'letting', 'lies', 'lifted', 'lightened', 'liked', 'likes', 'limbs', 'limits', 'lines', 'lingered', 'lingering', 'lips', 'listened', 'lives', 'livings', 'll', 'lodges', 'loitered', 'lombardy', 'london', 'longed', 'longest', 'longstaple', 'looked', 'looks', 'loved', 'lovers', 'loves', 'lowered', 'lurking', 'magna', 'maids', 'maintained', 'makes', 'mama', 'managed', 'marlborough', 'marriages', 'marries', 'matters', 'maxims', 'meadows', 'meals', 'means', 'meantime', 'measures', 'medicines', 'meditated', 'meditations', 'meetings', 'mentioned', 'mentioning', 'merest', 'merits', 'merrier', 'messages', 'middleton', 'middletons', 'militated', 'minds', 'minutes', 'misapplied', 'misinformed', 'missed', 'misses', 'mistakes', 'mixing', 'modestest', 'mohrs', 'moments', 'months', 'mosquitoes', 'mothers', 'motives', 'moved', 'murmurings', 'muttered', 'nabobs', 'named', 'names', 'natured', 'nearer', 'needed', 'neglected', 'neighbour', 'neighbourhood', 'neighbouring', 'neighbourly', 'neighbours', 'nerves', 'nests', 'nettles', 'newer', 'newspapers', 'nicest', 'nieces', 'nipped', 'nodded', 'nods', 'noisier', 'notes', 'noticed', 'noticing', 'notions', 'nt', 'nurses', 'obeyed', 'objected', 'objections', 'objects', 'obligations', 'observations', 'observed', 'obstacles', 'obstructed', 'obtained', 'obtaining', 'obviated', 'obviating', 'occasioned', 'occasions', 'occupations', 'occupied', 'occurred', 'oddest', 'offence', 'offences', 'offending', 'offered', 'offices', 'oftener', 'oftenest', 'oldest', 'olives', 'omitted', 'ones', 'opened', 'opinions', 'opportunities', 'ordained', 'orders', 'originated', 'ornamented', 'ornaments', 'others', 'outdone', 'outgrown', 'outlived', 'outraged', 'outstaid', 'outstretched', 'outstripped', 'outweighs', 'overcame', 'overcoming', 'overheard', 'overlooked', 'overpowered', 'overspreading', 'overstrained', 'owed', 'owned', 'owners', 'owning', 'paces', 'pacified', 'packages', 'packed', 'pages', 'paid', 'pains', 'palanquins', 'palmers', 'pangs', 'papers', 'parcels', 'parents', 'parlors', 'parlour', 'parrys', 'particulars', 'parties', 'parting', 'partners', 'parts', 'passages', 'passed', 'passions', 'patches', 'patronised', 'patterns', 'paused', 'pausing', 'pearls', 'perceived', 'perfections', 'performances', 'performed', 'performers', 'performing', 'permitting', 'persecutions', 'persevered', 'persisted', 'persons', 'persuading', 'pictures', 'pieces', 'pimples', 'piqued', 'pitched', 'pitied', 'placed', 'placing', 'plaguing', 'planning', 'plans', 'plantations', 'plants', 'played', 'playfellows', 'playing', 'playthings', 'pleasanter', 'pleasantest', 'pleased', 'pleasures', 'plums', 'pointers', 'points', 'ponds', 'poplars', 'popt', 'possesses', 'possessions', 'postponing', 'posts', 'pounds', 'poured', 'powers', 'practices', 'practise', 'practised', 'praised', 'praises', 'prayers', 'pre', 'preceded', 'preferring', 'prejudices', 'premeditated', 'premises', 'prenticed', 'preparations', 'preparing', 'prescribed', 'prescriptions', 'presented', 'presenting', 'presents', 'preserved', 'presided', 'pressed', 'presumed', 'pretence', 'pretends', 'pretensions', 'prettier', 'prettiest', 'prevailed', 'prevailing', 'prevented', 'preyed', 'principles', 'probabilities', 'proceeded', 'proclaimed', 'procured', 'procuring', 'producing', 'professions', 'profited', 'prohibited', 'projects', 'promised', 'promises', 'promontories', 'promoted', 'promoting', 'prompted', 'pronouncing', 'proofs', 'propensities', 'prophecies', 'proposals', 'proposed', 'prospects', 'protestations', 'protested', 'proud', 'provisions', 'provoked', 'publishing', 'pulled', 'puppies', 'purchases', 'purposes', 'pursued', 'pursuing', 'pursuits', 'puts', 'putting', 'qualifications', 'quarrelled', 'quarrelling', 'questions', 'quickened', 'quicker', 'quickest', 'quieted', 'quitting', 'rained', 'raises', 'rambles', 'raptures', 'reached', 'reaped', 'reasonings', 'reasons', 'recalled', 'receiving', 'reckoned', 'reckons', 'reclining', 'recognised', 'recollecting', 'recommended', 'recommending', 'reconciled', 'recovered', 'recovering', 'recreating', 'recurred', 'referred', 'referring', 'refinements', 'reflections', 'refreshed', 'refreshments', 'refused', 'regarded', 'regards', 'regrets', 'regretted', 'regretting', 'rejected', 'rejoiced', 'relating', 'relations', 'relatives', 'released', 'relics', 'relied', 'relinquished', 'relying', 'remained', 'remaining', 'remarks', 'remedies', 'remembered', 'remembering', 'remembers', 'remembrances', 'reminded', 'reminding', 'reminds', 'removes', 'rendered', 'renewed', 'renewing', 'renounced', 'repaid', 'repaired', 'repeating', 'repining', 'replied', 'replying', 'reports', 'representations', 'represented', 'representing', 'reproached', 'reproaches', 'reproaching', 'reproved', 'reproving', 'repulsed', 'requested', 'requesting', 'required', 'requires', 'requiring', 'rescued', 'reseated', 'resembled', 'resembling', 'resented', 'resettled', 'resided', 'residing', 'resisted', 'resists', 'resolving', 'resorted', 'resources', 'respected', 'respects', 'rested', 'restored', 'restoring', 'restraints', 'resumed', 'retailed', 'retained', 'retreated', 'retrenched', 'returning', 'reverted', 'revived', 'rewarded', 'rheumatisms', 'ribbons', 'richardson', 'richardsons', 'richer', 'rings', 'rises', 'risking', 'rivals', 'roads', 'roared', 'robbed', 'rocks', 'rooms', 'roused', 'ruins', 'rumour', 'sackville', 'sacrificed', 'sakes', 'salts', 'sandersons', 'sashes', 'sauntered', 'saves', 'savings', 'says', 'scenes', 'schemes', 'scolded', 'scorning', 'scotland', 'scrawls', 'screamed', 'screams', 'screens', 'scrupled', 'scruples', 'scrupling', 'scrutinies', 'searched', 'seasons', 'seats', 'seconded', 'seconds', 'secrets', 'secured', 'secures', 'securing', 'seduced', 'seemed', 'seems', 'seized', 'sellers', 'sends', 'sensations', 'senses', 'sentences', 'sentiments', 'separated', 'separations', 'servants', 'served', 'services', 'shades', 'shakespeare', 'shared', 'sharing', 'sharpe', 'shew', 'shewed', 'shewing', 'shewn', 'shews', 'shillings', 'shocked', 'shoes', 'shops', 'shoulders', 'showed', 'showers', 'shrubberies', 'shrugging', 'shuddering', 'shutters', 'sighed', 'signs', 'silencing', 'silks', 'simpered', 'simpering', 'simplest', 'simpson', 'sisters', 'situations', 'slightest', 'smallest', 'smiled', 'smiles', 'smirked', 'smokes', 'sobbed', 'sobered', 'sobs', 'softened', 'solicitations', 'somersetshire', 'songs', 'soothings', 'sorrows', 'souls', 'sounds', 'sources', 'spared', 'speaks', 'spends', 'spirits', 'sportsmen', 'sprained', 'spraining', 'spunging', 'spurned', 'stairs', 'stammered', 'stanhill', 'stared', 'stares', 'started', 'startled', 'stating', 'staying', 'steele', 'steeles', 'steepest', 'steps', 'stimulated', 'stirred', 'stockings', 'stopt', 'strains', 'strangers', 'streamed', 'strengthened', 'stretched', 'strictest', 'strikes', 'stronger', 'strongest', 'struggled', 'studies', 'stupified', 'styled', 'subjects', 'submitted', 'submitting', 'subsisted', 'subsisting', 'succeeded', 'succour', 'suffered', 'sufferings', 'suffers', 'suggested', 'suited', 'summits', 'summoned', 'superannuated', 'supplanted', 'supplied', 'supplying', 'supported', 'supports', 'surfaces', 'surpassed', 'surprised', 'survived', 'suspecting', 'suspects', 'suspicions', 'swallowed', 'sweetest', 'sweetmeats', 'syllables', 'sympathised', 'symptoms', 'systems', 'takes', 'talents', 'talked', 'talks', 'tallest', 'tastes', 'taverns', 'tears', 'teazed', 'teazing', 'tells', 'tempers', 'tempted', 'tended', 'tenderest', 'terminated', 'terms', 'thanked', 'things', 'thinks', 'thirds', 'thistles', 'thomson', 'thorns', 'thoughts', 'threatened', 'threats', 'thunderbolts', 'tis', 'tithes', 'traced', 'traded', 'trades', 'traits', 'transacted', 'transgressed', 'travellers', 'travelling', 'treasured', 'treated', 'trees', 'trembled', 'tremour', 'trials', 'tricked', 'tricks', 'tries', 'trifled', 'troubles', 'truest', 'trusted', 'truths', 'twould', 'undergone', 'undervalued', 'unfavourable', 'unites', 'unlover', 'unpleasantest', 'urged', 'ushered', 'using', 'valleys', 'variations', 'varying', 've', 'ventured', 'venturing', 'viewed', 'viewing', 'views', 'vigour', 'villages', 'violins', 'virtues', 'visited', 'visitors', 'visits', 'voices', 'vouchsafed', 'waistcoats', 'waited', 'walked', 'walks', 'walls', 'wandered', 'wanted', 'wants', 'warmest', 'weakened', 'weaknesses', 'weddings', 'weeks', 'welcomed', 'westminster', 'westons', 'wettest', 'weymouth', 'whiled', 'whims', 'whitakers', 'whiter', 'whitwell', 'wildest', 'williams', 'willoughby', 'willoughbys', 'windows', 'winks', 'wiping', 'wisest', 'wishes', 'withdrew', 'witnessed', 'witnesses', 'witnessing', 'witticisms', 'wittiest', 'wives', 'women', 'wondered', 'woods', 'words', 'workmen', 'worlds', 'wrapt', 'writes', 'yards', 'years', 'yielded', 'youngest']\n"
          ],
          "name": "stdout"
        }
      ]
    },
    {
      "cell_type": "code",
      "metadata": {
        "id": "LNrslPPjrRHq",
        "colab_type": "code",
        "outputId": "11199a2c-5b44-4575-ca1f-bdc72306b954",
        "colab": {
          "base_uri": "https://localhost:8080/",
          "height": 88
        }
      },
      "source": [
        "#how to filter stopwords from text corpus using lexical corpus of stopwords\n",
        "from nltk.corpus import stopwords\n",
        "nltk.download('stopwords')\n",
        "print(stopwords.words('english'))"
      ],
      "execution_count": 11,
      "outputs": [
        {
          "output_type": "stream",
          "text": [
            "[nltk_data] Downloading package stopwords to /root/nltk_data...\n",
            "[nltk_data]   Unzipping corpora/stopwords.zip.\n",
            "['i', 'me', 'my', 'myself', 'we', 'our', 'ours', 'ourselves', 'you', \"you're\", \"you've\", \"you'll\", \"you'd\", 'your', 'yours', 'yourself', 'yourselves', 'he', 'him', 'his', 'himself', 'she', \"she's\", 'her', 'hers', 'herself', 'it', \"it's\", 'its', 'itself', 'they', 'them', 'their', 'theirs', 'themselves', 'what', 'which', 'who', 'whom', 'this', 'that', \"that'll\", 'these', 'those', 'am', 'is', 'are', 'was', 'were', 'be', 'been', 'being', 'have', 'has', 'had', 'having', 'do', 'does', 'did', 'doing', 'a', 'an', 'the', 'and', 'but', 'if', 'or', 'because', 'as', 'until', 'while', 'of', 'at', 'by', 'for', 'with', 'about', 'against', 'between', 'into', 'through', 'during', 'before', 'after', 'above', 'below', 'to', 'from', 'up', 'down', 'in', 'out', 'on', 'off', 'over', 'under', 'again', 'further', 'then', 'once', 'here', 'there', 'when', 'where', 'why', 'how', 'all', 'any', 'both', 'each', 'few', 'more', 'most', 'other', 'some', 'such', 'no', 'nor', 'not', 'only', 'own', 'same', 'so', 'than', 'too', 'very', 's', 't', 'can', 'will', 'just', 'don', \"don't\", 'should', \"should've\", 'now', 'd', 'll', 'm', 'o', 're', 've', 'y', 'ain', 'aren', \"aren't\", 'couldn', \"couldn't\", 'didn', \"didn't\", 'doesn', \"doesn't\", 'hadn', \"hadn't\", 'hasn', \"hasn't\", 'haven', \"haven't\", 'isn', \"isn't\", 'ma', 'mightn', \"mightn't\", 'mustn', \"mustn't\", 'needn', \"needn't\", 'shan', \"shan't\", 'shouldn', \"shouldn't\", 'wasn', \"wasn't\", 'weren', \"weren't\", 'won', \"won't\", 'wouldn', \"wouldn't\"]\n"
          ],
          "name": "stdout"
        }
      ]
    },
    {
      "cell_type": "code",
      "metadata": {
        "id": "D0GVzXEhrqou",
        "colab_type": "code",
        "colab": {}
      },
      "source": [
        "def content_fraction(text):\n",
        "  stopwords = nltk.corpus.stopwords.words('english')\n",
        "  content = [w for w in text if w.lower() not in stopwords]\n",
        "  return len(content) / len(text)"
      ],
      "execution_count": 0,
      "outputs": []
    },
    {
      "cell_type": "code",
      "metadata": {
        "id": "F8Dt0OyNsM4p",
        "colab_type": "code",
        "outputId": "f6966ffe-15d8-491b-d009-326a9d737ef5",
        "colab": {
          "base_uri": "https://localhost:8080/",
          "height": 51
        }
      },
      "source": [
        "nltk.download('reuters')\n",
        "content_fraction(nltk.corpus.reuters.words())"
      ],
      "execution_count": 13,
      "outputs": [
        {
          "output_type": "stream",
          "text": [
            "[nltk_data] Downloading package reuters to /root/nltk_data...\n"
          ],
          "name": "stdout"
        },
        {
          "output_type": "execute_result",
          "data": {
            "text/plain": [
              "0.735240435097661"
            ]
          },
          "metadata": {
            "tags": []
          },
          "execution_count": 13
        }
      ]
    },
    {
      "cell_type": "markdown",
      "metadata": {
        "id": "U-4yaMkNsiLL",
        "colab_type": "text"
      },
      "source": [
        "we filtered out almost a third of the words of the text"
      ]
    },
    {
      "cell_type": "code",
      "metadata": {
        "id": "8deMTLvbsrIC",
        "colab_type": "code",
        "colab": {
          "base_uri": "https://localhost:8080/",
          "height": 68
        },
        "outputId": "d2cc2f1b-aeda-4576-a994-d8c74e4b165e"
      },
      "source": [
        "#example on wordNet, its a synonyms based\n",
        "from nltk.corpus import wordnet as wn\n",
        "nltk.download('wordnet')\n",
        "wn.synsets('motorcar')"
      ],
      "execution_count": 14,
      "outputs": [
        {
          "output_type": "stream",
          "text": [
            "[nltk_data] Downloading package wordnet to /root/nltk_data...\n",
            "[nltk_data]   Unzipping corpora/wordnet.zip.\n"
          ],
          "name": "stdout"
        },
        {
          "output_type": "execute_result",
          "data": {
            "text/plain": [
              "[Synset('car.n.01')]"
            ]
          },
          "metadata": {
            "tags": []
          },
          "execution_count": 14
        }
      ]
    },
    {
      "cell_type": "code",
      "metadata": {
        "id": "HPlnfWNbjOfw",
        "colab_type": "code",
        "colab": {
          "base_uri": "https://localhost:8080/",
          "height": 34
        },
        "outputId": "27482259-bdc2-4ce8-cc67-415285c1828f"
      },
      "source": [
        "print(wn.synset('car.n.01').lemma_names())"
      ],
      "execution_count": 18,
      "outputs": [
        {
          "output_type": "stream",
          "text": [
            "['car', 'auto', 'automobile', 'machine', 'motorcar']\n"
          ],
          "name": "stdout"
        }
      ]
    },
    {
      "cell_type": "code",
      "metadata": {
        "id": "FSRuCu8sjnMF",
        "colab_type": "code",
        "colab": {
          "base_uri": "https://localhost:8080/",
          "height": 68
        },
        "outputId": "78883f8c-d8df-4479-c722-a2f6b298b9ea"
      },
      "source": [
        "print(wn.synset('car.n.01').definition())\n",
        "print(wn.synset('car.n.01').examples())\n",
        "print(wn.synset('car.n.01').lemmas())"
      ],
      "execution_count": 23,
      "outputs": [
        {
          "output_type": "stream",
          "text": [
            "a motor vehicle with four wheels; usually propelled by an internal combustion engine\n",
            "['he needs a car to get to work']\n",
            "[Lemma('car.n.01.car'), Lemma('car.n.01.auto'), Lemma('car.n.01.automobile'), Lemma('car.n.01.machine'), Lemma('car.n.01.motorcar')]\n"
          ],
          "name": "stdout"
        }
      ]
    },
    {
      "cell_type": "code",
      "metadata": {
        "id": "8pteQQJIkujt",
        "colab_type": "code",
        "colab": {
          "base_uri": "https://localhost:8080/",
          "height": 71
        },
        "outputId": "c197ee69-b01c-4a3d-97d1-d5efc5ca0008"
      },
      "source": [
        "types_of_motorcar = wn.synset('car.n.01').hyponyms()\n",
        "print(types_of_motorcar)\n",
        "print(sorted([lemma.name() for synset in types_of_motorcar for lemma in synset.lemmas()]))"
      ],
      "execution_count": 30,
      "outputs": [
        {
          "output_type": "stream",
          "text": [
            "[Synset('ambulance.n.01'), Synset('beach_wagon.n.01'), Synset('bus.n.04'), Synset('cab.n.03'), Synset('compact.n.03'), Synset('convertible.n.01'), Synset('coupe.n.01'), Synset('cruiser.n.01'), Synset('electric.n.01'), Synset('gas_guzzler.n.01'), Synset('hardtop.n.01'), Synset('hatchback.n.01'), Synset('horseless_carriage.n.01'), Synset('hot_rod.n.01'), Synset('jeep.n.01'), Synset('limousine.n.01'), Synset('loaner.n.02'), Synset('minicar.n.01'), Synset('minivan.n.01'), Synset('model_t.n.01'), Synset('pace_car.n.01'), Synset('racer.n.02'), Synset('roadster.n.01'), Synset('sedan.n.01'), Synset('sport_utility.n.01'), Synset('sports_car.n.01'), Synset('stanley_steamer.n.01'), Synset('stock_car.n.01'), Synset('subcompact.n.01'), Synset('touring_car.n.01'), Synset('used-car.n.01')]\n",
            "['Model_T', 'S.U.V.', 'SUV', 'Stanley_Steamer', 'ambulance', 'beach_waggon', 'beach_wagon', 'bus', 'cab', 'compact', 'compact_car', 'convertible', 'coupe', 'cruiser', 'electric', 'electric_automobile', 'electric_car', 'estate_car', 'gas_guzzler', 'hack', 'hardtop', 'hatchback', 'heap', 'horseless_carriage', 'hot-rod', 'hot_rod', 'jalopy', 'jeep', 'landrover', 'limo', 'limousine', 'loaner', 'minicar', 'minivan', 'pace_car', 'patrol_car', 'phaeton', 'police_car', 'police_cruiser', 'prowl_car', 'race_car', 'racer', 'racing_car', 'roadster', 'runabout', 'saloon', 'secondhand_car', 'sedan', 'sport_car', 'sport_utility', 'sport_utility_vehicle', 'sports_car', 'squad_car', 'station_waggon', 'station_wagon', 'stock_car', 'subcompact', 'subcompact_car', 'taxi', 'taxicab', 'tourer', 'touring_car', 'two-seater', 'used-car', 'waggon', 'wagon']\n"
          ],
          "name": "stdout"
        }
      ]
    },
    {
      "cell_type": "markdown",
      "metadata": {
        "id": "Y61kPNo8mZP4",
        "colab_type": "text"
      },
      "source": [
        "basicly wordnet has a bunch of methods for linking english language by using words only, in other words we can traverse the WordNet network to find synsets with related meanings. "
      ]
    }
  ]
}